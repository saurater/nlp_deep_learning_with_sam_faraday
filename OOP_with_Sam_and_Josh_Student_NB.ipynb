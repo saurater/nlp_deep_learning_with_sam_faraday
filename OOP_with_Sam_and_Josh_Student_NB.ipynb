{
  "nbformat": 4,
  "nbformat_minor": 0,
  "metadata": {
    "colab": {
      "provenance": [],
      "collapsed_sections": [],
      "authorship_tag": "ABX9TyOC6u/8d2f128DbppaHKT7M",
      "include_colab_link": true
    },
    "kernelspec": {
      "name": "python3",
      "display_name": "Python 3"
    },
    "language_info": {
      "name": "python"
    }
  },
  "cells": [
    {
      "cell_type": "markdown",
      "metadata": {
        "id": "view-in-github",
        "colab_type": "text"
      },
      "source": [
        "<a href=\"https://colab.research.google.com/github/saurater/nlp_deep_learning_with_sam_faraday/blob/main/OOP_with_Sam_and_Josh_Student_NB.ipynb\" target=\"_parent\"><img src=\"https://colab.research.google.com/assets/colab-badge.svg\" alt=\"Open In Colab\"/></a>"
      ]
    },
    {
      "cell_type": "markdown",
      "source": [
        "![image.png](data:image/png;base64,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)"
      ],
      "metadata": {
        "id": "yHwKqACpPGZJ"
      }
    },
    {
      "cell_type": "code",
      "execution_count": null,
      "metadata": {
        "id": "3Uj2U-JaOorn"
      },
      "outputs": [],
      "source": [
        "my_string = \"Electric power is not so good in Africa\""
      ]
    },
    {
      "cell_type": "code",
      "source": [
        "for each_letter in my_string:\n",
        "  print(each_letter)"
      ],
      "metadata": {
        "id": "zOpr7QXtZKQT"
      },
      "execution_count": null,
      "outputs": []
    },
    {
      "cell_type": "code",
      "source": [
        "my_string2 =  \"Electricity#Power\""
      ],
      "metadata": {
        "id": "omk22BEoZVY4"
      },
      "execution_count": null,
      "outputs": []
    },
    {
      "cell_type": "code",
      "source": [
        "my_list1 = my_string2.split(\"#\")"
      ],
      "metadata": {
        "id": "TzrVdTyRZOy4"
      },
      "execution_count": null,
      "outputs": []
    },
    {
      "cell_type": "code",
      "source": [
        "my_list1"
      ],
      "metadata": {
        "colab": {
          "base_uri": "https://localhost:8080/"
        },
        "id": "oWmH5UkWZwnp",
        "outputId": "c9ba1d91-d33f-4e5e-fc24-2cfa2fdfc101"
      },
      "execution_count": null,
      "outputs": [
        {
          "output_type": "execute_result",
          "data": {
            "text/plain": [
              "['Electricity', 'Power']"
            ]
          },
          "metadata": {},
          "execution_count": 6
        }
      ]
    },
    {
      "cell_type": "code",
      "source": [
        "my_list1[0]"
      ],
      "metadata": {
        "colab": {
          "base_uri": "https://localhost:8080/",
          "height": 35
        },
        "id": "QD7qCY9RZ25G",
        "outputId": "0561c151-cea1-4802-ede6-9ff09587b057"
      },
      "execution_count": null,
      "outputs": [
        {
          "output_type": "execute_result",
          "data": {
            "text/plain": [
              "'Electricity'"
            ],
            "application/vnd.google.colaboratory.intrinsic+json": {
              "type": "string"
            }
          },
          "metadata": {},
          "execution_count": 7
        }
      ]
    },
    {
      "cell_type": "code",
      "source": [
        "my_list1[1]"
      ],
      "metadata": {
        "colab": {
          "base_uri": "https://localhost:8080/",
          "height": 35
        },
        "id": "XnDRnOcEaA_z",
        "outputId": "1b5d20ea-d977-407a-a9d6-ccb0c22f2d95"
      },
      "execution_count": null,
      "outputs": [
        {
          "output_type": "execute_result",
          "data": {
            "text/plain": [
              "'Power'"
            ],
            "application/vnd.google.colaboratory.intrinsic+json": {
              "type": "string"
            }
          },
          "metadata": {},
          "execution_count": 8
        }
      ]
    },
    {
      "cell_type": "code",
      "source": [
        "len(my_list1)"
      ],
      "metadata": {
        "colab": {
          "base_uri": "https://localhost:8080/"
        },
        "id": "oZRLko1ZaGTp",
        "outputId": "3f732744-af74-4194-8dae-6d871a07003a"
      },
      "execution_count": null,
      "outputs": [
        {
          "output_type": "execute_result",
          "data": {
            "text/plain": [
              "2"
            ]
          },
          "metadata": {},
          "execution_count": 9
        }
      ]
    },
    {
      "cell_type": "code",
      "source": [
        "len(my_string)"
      ],
      "metadata": {
        "colab": {
          "base_uri": "https://localhost:8080/"
        },
        "id": "bmuR7AYpaSVD",
        "outputId": "50104363-353d-4b70-9b58-c08578f24950"
      },
      "execution_count": null,
      "outputs": [
        {
          "output_type": "execute_result",
          "data": {
            "text/plain": [
              "39"
            ]
          },
          "metadata": {},
          "execution_count": 10
        }
      ]
    },
    {
      "cell_type": "code",
      "source": [
        "# Get the last word in my_list1\n",
        "my_list1[-1]"
      ],
      "metadata": {
        "colab": {
          "base_uri": "https://localhost:8080/",
          "height": 35
        },
        "id": "EZunWWepay7g",
        "outputId": "11cf88f5-074e-4516-a90c-9b404e5856c4"
      },
      "execution_count": null,
      "outputs": [
        {
          "output_type": "execute_result",
          "data": {
            "text/plain": [
              "'Power'"
            ],
            "application/vnd.google.colaboratory.intrinsic+json": {
              "type": "string"
            }
          },
          "metadata": {},
          "execution_count": 11
        }
      ]
    },
    {
      "cell_type": "code",
      "source": [
        "my_list1[-2]"
      ],
      "metadata": {
        "colab": {
          "base_uri": "https://localhost:8080/",
          "height": 35
        },
        "id": "Fq8DbEw0bDqk",
        "outputId": "bc6a3a09-2f65-483e-a87c-7142403ec1f8"
      },
      "execution_count": null,
      "outputs": [
        {
          "output_type": "execute_result",
          "data": {
            "text/plain": [
              "'Electricity'"
            ],
            "application/vnd.google.colaboratory.intrinsic+json": {
              "type": "string"
            }
          },
          "metadata": {},
          "execution_count": 12
        }
      ]
    },
    {
      "cell_type": "code",
      "source": [
        "features , labels = my_list1[0] , my_list1[-6:]"
      ],
      "metadata": {
        "id": "C2zIiD2nbVLp"
      },
      "execution_count": null,
      "outputs": []
    },
    {
      "cell_type": "code",
      "source": [
        "features"
      ],
      "metadata": {
        "colab": {
          "base_uri": "https://localhost:8080/",
          "height": 35
        },
        "id": "TBpqKuZEbkEe",
        "outputId": "852eed8e-c5f3-4c65-a40d-a8dc214eaadf"
      },
      "execution_count": null,
      "outputs": [
        {
          "output_type": "execute_result",
          "data": {
            "text/plain": [
              "'Electricity'"
            ],
            "application/vnd.google.colaboratory.intrinsic+json": {
              "type": "string"
            }
          },
          "metadata": {},
          "execution_count": 47
        }
      ]
    },
    {
      "cell_type": "code",
      "source": [
        "labels"
      ],
      "metadata": {
        "colab": {
          "base_uri": "https://localhost:8080/"
        },
        "id": "xVfK5tuDblDA",
        "outputId": "766abf0e-f4f0-4f9d-d1e2-7999ac77c795"
      },
      "execution_count": null,
      "outputs": [
        {
          "output_type": "execute_result",
          "data": {
            "text/plain": [
              "['Electricity', 'Power']"
            ]
          },
          "metadata": {},
          "execution_count": 48
        }
      ]
    },
    {
      "cell_type": "code",
      "source": [
        "my_string[0:9]"
      ],
      "metadata": {
        "colab": {
          "base_uri": "https://localhost:8080/",
          "height": 35
        },
        "id": "cS5pkzwEcJ6G",
        "outputId": "dee8a033-f64a-4994-df88-81a521a33ea2"
      },
      "execution_count": null,
      "outputs": [
        {
          "output_type": "execute_result",
          "data": {
            "text/plain": [
              "'Electric'"
            ],
            "application/vnd.google.colaboratory.intrinsic+json": {
              "type": "string"
            }
          },
          "metadata": {},
          "execution_count": 24
        }
      ]
    },
    {
      "cell_type": "code",
      "source": [
        "my_string[:8]"
      ],
      "metadata": {
        "colab": {
          "base_uri": "https://localhost:8080/",
          "height": 35
        },
        "id": "3iLnMzUOcRQU",
        "outputId": "3bdb3406-d11d-4adc-cec5-4abe3d2871be"
      },
      "execution_count": null,
      "outputs": [
        {
          "output_type": "execute_result",
          "data": {
            "text/plain": [
              "'Electric'"
            ],
            "application/vnd.google.colaboratory.intrinsic+json": {
              "type": "string"
            }
          },
          "metadata": {},
          "execution_count": 25
        }
      ]
    },
    {
      "cell_type": "code",
      "source": [
        "my_string[:]"
      ],
      "metadata": {
        "colab": {
          "base_uri": "https://localhost:8080/",
          "height": 35
        },
        "id": "TiUZfmAWc8y-",
        "outputId": "ce2c19e8-d5f8-41d1-87c6-3946754f0ca3"
      },
      "execution_count": null,
      "outputs": [
        {
          "output_type": "execute_result",
          "data": {
            "text/plain": [
              "'Electric power is not so good in Africa'"
            ],
            "application/vnd.google.colaboratory.intrinsic+json": {
              "type": "string"
            }
          },
          "metadata": {},
          "execution_count": 26
        }
      ]
    },
    {
      "cell_type": "code",
      "source": [
        "# third character\n",
        "my_string[2]"
      ],
      "metadata": {
        "colab": {
          "base_uri": "https://localhost:8080/",
          "height": 35
        },
        "id": "dKGf5givdGZC",
        "outputId": "31493ea2-3e39-4881-e78e-d29438bcbb96"
      },
      "execution_count": null,
      "outputs": [
        {
          "output_type": "execute_result",
          "data": {
            "text/plain": [
              "'e'"
            ],
            "application/vnd.google.colaboratory.intrinsic+json": {
              "type": "string"
            }
          },
          "metadata": {},
          "execution_count": 28
        }
      ]
    },
    {
      "cell_type": "code",
      "source": [
        "feature , label = my_string[:8], my_string[-6:]"
      ],
      "metadata": {
        "id": "5BkOi4-HdiSX"
      },
      "execution_count": null,
      "outputs": []
    },
    {
      "cell_type": "code",
      "source": [
        "feature "
      ],
      "metadata": {
        "colab": {
          "base_uri": "https://localhost:8080/",
          "height": 35
        },
        "id": "IHRUsORZeDTQ",
        "outputId": "59126d0e-9942-46ad-ccd6-a5c863a6d6c7"
      },
      "execution_count": null,
      "outputs": [
        {
          "output_type": "execute_result",
          "data": {
            "text/plain": [
              "'Electric'"
            ],
            "application/vnd.google.colaboratory.intrinsic+json": {
              "type": "string"
            }
          },
          "metadata": {},
          "execution_count": 56
        }
      ]
    },
    {
      "cell_type": "code",
      "source": [
        "label"
      ],
      "metadata": {
        "colab": {
          "base_uri": "https://localhost:8080/",
          "height": 35
        },
        "id": "soOxQgFneE8n",
        "outputId": "7fbfb8fc-ed77-4b3d-d8b8-78ee1f634151"
      },
      "execution_count": null,
      "outputs": [
        {
          "output_type": "execute_result",
          "data": {
            "text/plain": [
              "'Africa'"
            ],
            "application/vnd.google.colaboratory.intrinsic+json": {
              "type": "string"
            }
          },
          "metadata": {},
          "execution_count": 57
        }
      ]
    },
    {
      "cell_type": "markdown",
      "source": [
        "# Dataframe"
      ],
      "metadata": {
        "id": "e6eTVk5nfSHi"
      }
    },
    {
      "cell_type": "code",
      "source": [
        "import pandas as pd"
      ],
      "metadata": {
        "id": "Vmj8bW-SfTm7"
      },
      "execution_count": null,
      "outputs": []
    },
    {
      "cell_type": "code",
      "source": [
        "# Create a Dictionary\n",
        "my_dict = {\n",
        "  \"Name\": [\"John\", \"Mike\", \"Josh\", \"Elizabeth\"],\n",
        "  \"Age\": [10, 12, 14, 94],\n",
        "  \"Country\": [\"USA\", \"England\", \"Nigeria\", \"England\"],\n",
        "\n",
        "}"
      ],
      "metadata": {
        "id": "SZRN0shifVGM"
      },
      "execution_count": null,
      "outputs": []
    },
    {
      "cell_type": "code",
      "source": [
        "# Convert the Dictionary to DataFrame\n",
        "my_df = pd.DataFrame(my_dict)"
      ],
      "metadata": {
        "id": "runAeOGjfcCD"
      },
      "execution_count": null,
      "outputs": []
    },
    {
      "cell_type": "code",
      "source": [
        "my_df"
      ],
      "metadata": {
        "colab": {
          "base_uri": "https://localhost:8080/",
          "height": 175
        },
        "id": "Llv2EcYoffZD",
        "outputId": "7ec35613-c12d-4765-c59e-e1a2154dc812"
      },
      "execution_count": null,
      "outputs": [
        {
          "output_type": "execute_result",
          "data": {
            "text/plain": [
              "        Name  Age  Country\n",
              "0       John   10      USA\n",
              "1       Mike   12  England\n",
              "2       Josh   14  Nigeria\n",
              "3  Elizabeth   94  England"
            ],
            "text/html": [
              "\n",
              "  <div id=\"df-a1b513cb-1f9c-456e-9286-716377584ca6\">\n",
              "    <div class=\"colab-df-container\">\n",
              "      <div>\n",
              "<style scoped>\n",
              "    .dataframe tbody tr th:only-of-type {\n",
              "        vertical-align: middle;\n",
              "    }\n",
              "\n",
              "    .dataframe tbody tr th {\n",
              "        vertical-align: top;\n",
              "    }\n",
              "\n",
              "    .dataframe thead th {\n",
              "        text-align: right;\n",
              "    }\n",
              "</style>\n",
              "<table border=\"1\" class=\"dataframe\">\n",
              "  <thead>\n",
              "    <tr style=\"text-align: right;\">\n",
              "      <th></th>\n",
              "      <th>Name</th>\n",
              "      <th>Age</th>\n",
              "      <th>Country</th>\n",
              "    </tr>\n",
              "  </thead>\n",
              "  <tbody>\n",
              "    <tr>\n",
              "      <th>0</th>\n",
              "      <td>John</td>\n",
              "      <td>10</td>\n",
              "      <td>USA</td>\n",
              "    </tr>\n",
              "    <tr>\n",
              "      <th>1</th>\n",
              "      <td>Mike</td>\n",
              "      <td>12</td>\n",
              "      <td>England</td>\n",
              "    </tr>\n",
              "    <tr>\n",
              "      <th>2</th>\n",
              "      <td>Josh</td>\n",
              "      <td>14</td>\n",
              "      <td>Nigeria</td>\n",
              "    </tr>\n",
              "    <tr>\n",
              "      <th>3</th>\n",
              "      <td>Elizabeth</td>\n",
              "      <td>94</td>\n",
              "      <td>England</td>\n",
              "    </tr>\n",
              "  </tbody>\n",
              "</table>\n",
              "</div>\n",
              "      <button class=\"colab-df-convert\" onclick=\"convertToInteractive('df-a1b513cb-1f9c-456e-9286-716377584ca6')\"\n",
              "              title=\"Convert this dataframe to an interactive table.\"\n",
              "              style=\"display:none;\">\n",
              "        \n",
              "  <svg xmlns=\"http://www.w3.org/2000/svg\" height=\"24px\"viewBox=\"0 0 24 24\"\n",
              "       width=\"24px\">\n",
              "    <path d=\"M0 0h24v24H0V0z\" fill=\"none\"/>\n",
              "    <path d=\"M18.56 5.44l.94 2.06.94-2.06 2.06-.94-2.06-.94-.94-2.06-.94 2.06-2.06.94zm-11 1L8.5 8.5l.94-2.06 2.06-.94-2.06-.94L8.5 2.5l-.94 2.06-2.06.94zm10 10l.94 2.06.94-2.06 2.06-.94-2.06-.94-.94-2.06-.94 2.06-2.06.94z\"/><path d=\"M17.41 7.96l-1.37-1.37c-.4-.4-.92-.59-1.43-.59-.52 0-1.04.2-1.43.59L10.3 9.45l-7.72 7.72c-.78.78-.78 2.05 0 2.83L4 21.41c.39.39.9.59 1.41.59.51 0 1.02-.2 1.41-.59l7.78-7.78 2.81-2.81c.8-.78.8-2.07 0-2.86zM5.41 20L4 18.59l7.72-7.72 1.47 1.35L5.41 20z\"/>\n",
              "  </svg>\n",
              "      </button>\n",
              "      \n",
              "  <style>\n",
              "    .colab-df-container {\n",
              "      display:flex;\n",
              "      flex-wrap:wrap;\n",
              "      gap: 12px;\n",
              "    }\n",
              "\n",
              "    .colab-df-convert {\n",
              "      background-color: #E8F0FE;\n",
              "      border: none;\n",
              "      border-radius: 50%;\n",
              "      cursor: pointer;\n",
              "      display: none;\n",
              "      fill: #1967D2;\n",
              "      height: 32px;\n",
              "      padding: 0 0 0 0;\n",
              "      width: 32px;\n",
              "    }\n",
              "\n",
              "    .colab-df-convert:hover {\n",
              "      background-color: #E2EBFA;\n",
              "      box-shadow: 0px 1px 2px rgba(60, 64, 67, 0.3), 0px 1px 3px 1px rgba(60, 64, 67, 0.15);\n",
              "      fill: #174EA6;\n",
              "    }\n",
              "\n",
              "    [theme=dark] .colab-df-convert {\n",
              "      background-color: #3B4455;\n",
              "      fill: #D2E3FC;\n",
              "    }\n",
              "\n",
              "    [theme=dark] .colab-df-convert:hover {\n",
              "      background-color: #434B5C;\n",
              "      box-shadow: 0px 1px 3px 1px rgba(0, 0, 0, 0.15);\n",
              "      filter: drop-shadow(0px 1px 2px rgba(0, 0, 0, 0.3));\n",
              "      fill: #FFFFFF;\n",
              "    }\n",
              "  </style>\n",
              "\n",
              "      <script>\n",
              "        const buttonEl =\n",
              "          document.querySelector('#df-a1b513cb-1f9c-456e-9286-716377584ca6 button.colab-df-convert');\n",
              "        buttonEl.style.display =\n",
              "          google.colab.kernel.accessAllowed ? 'block' : 'none';\n",
              "\n",
              "        async function convertToInteractive(key) {\n",
              "          const element = document.querySelector('#df-a1b513cb-1f9c-456e-9286-716377584ca6');\n",
              "          const dataTable =\n",
              "            await google.colab.kernel.invokeFunction('convertToInteractive',\n",
              "                                                     [key], {});\n",
              "          if (!dataTable) return;\n",
              "\n",
              "          const docLinkHtml = 'Like what you see? Visit the ' +\n",
              "            '<a target=\"_blank\" href=https://colab.research.google.com/notebooks/data_table.ipynb>data table notebook</a>'\n",
              "            + ' to learn more about interactive tables.';\n",
              "          element.innerHTML = '';\n",
              "          dataTable['output_type'] = 'display_data';\n",
              "          await google.colab.output.renderOutput(dataTable, element);\n",
              "          const docLink = document.createElement('div');\n",
              "          docLink.innerHTML = docLinkHtml;\n",
              "          element.appendChild(docLink);\n",
              "        }\n",
              "      </script>\n",
              "    </div>\n",
              "  </div>\n",
              "  "
            ]
          },
          "metadata": {},
          "execution_count": 61
        }
      ]
    },
    {
      "cell_type": "markdown",
      "source": [
        "![image.png](data:image/png;base64,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)"
      ],
      "metadata": {
        "id": "uKmQSz6aflkU"
      }
    },
    {
      "cell_type": "code",
      "source": [
        "my_df.iloc[0:1, 0:1]"
      ],
      "metadata": {
        "colab": {
          "base_uri": "https://localhost:8080/",
          "height": 81
        },
        "id": "aGzx73BXfgEA",
        "outputId": "8a4ce64c-a5ce-4932-af43-48156966a573"
      },
      "execution_count": null,
      "outputs": [
        {
          "output_type": "execute_result",
          "data": {
            "text/plain": [
              "   Name\n",
              "0  John"
            ],
            "text/html": [
              "\n",
              "  <div id=\"df-d3419e4f-1d30-4df6-89b6-228de1a9dce3\">\n",
              "    <div class=\"colab-df-container\">\n",
              "      <div>\n",
              "<style scoped>\n",
              "    .dataframe tbody tr th:only-of-type {\n",
              "        vertical-align: middle;\n",
              "    }\n",
              "\n",
              "    .dataframe tbody tr th {\n",
              "        vertical-align: top;\n",
              "    }\n",
              "\n",
              "    .dataframe thead th {\n",
              "        text-align: right;\n",
              "    }\n",
              "</style>\n",
              "<table border=\"1\" class=\"dataframe\">\n",
              "  <thead>\n",
              "    <tr style=\"text-align: right;\">\n",
              "      <th></th>\n",
              "      <th>Name</th>\n",
              "    </tr>\n",
              "  </thead>\n",
              "  <tbody>\n",
              "    <tr>\n",
              "      <th>0</th>\n",
              "      <td>John</td>\n",
              "    </tr>\n",
              "  </tbody>\n",
              "</table>\n",
              "</div>\n",
              "      <button class=\"colab-df-convert\" onclick=\"convertToInteractive('df-d3419e4f-1d30-4df6-89b6-228de1a9dce3')\"\n",
              "              title=\"Convert this dataframe to an interactive table.\"\n",
              "              style=\"display:none;\">\n",
              "        \n",
              "  <svg xmlns=\"http://www.w3.org/2000/svg\" height=\"24px\"viewBox=\"0 0 24 24\"\n",
              "       width=\"24px\">\n",
              "    <path d=\"M0 0h24v24H0V0z\" fill=\"none\"/>\n",
              "    <path d=\"M18.56 5.44l.94 2.06.94-2.06 2.06-.94-2.06-.94-.94-2.06-.94 2.06-2.06.94zm-11 1L8.5 8.5l.94-2.06 2.06-.94-2.06-.94L8.5 2.5l-.94 2.06-2.06.94zm10 10l.94 2.06.94-2.06 2.06-.94-2.06-.94-.94-2.06-.94 2.06-2.06.94z\"/><path d=\"M17.41 7.96l-1.37-1.37c-.4-.4-.92-.59-1.43-.59-.52 0-1.04.2-1.43.59L10.3 9.45l-7.72 7.72c-.78.78-.78 2.05 0 2.83L4 21.41c.39.39.9.59 1.41.59.51 0 1.02-.2 1.41-.59l7.78-7.78 2.81-2.81c.8-.78.8-2.07 0-2.86zM5.41 20L4 18.59l7.72-7.72 1.47 1.35L5.41 20z\"/>\n",
              "  </svg>\n",
              "      </button>\n",
              "      \n",
              "  <style>\n",
              "    .colab-df-container {\n",
              "      display:flex;\n",
              "      flex-wrap:wrap;\n",
              "      gap: 12px;\n",
              "    }\n",
              "\n",
              "    .colab-df-convert {\n",
              "      background-color: #E8F0FE;\n",
              "      border: none;\n",
              "      border-radius: 50%;\n",
              "      cursor: pointer;\n",
              "      display: none;\n",
              "      fill: #1967D2;\n",
              "      height: 32px;\n",
              "      padding: 0 0 0 0;\n",
              "      width: 32px;\n",
              "    }\n",
              "\n",
              "    .colab-df-convert:hover {\n",
              "      background-color: #E2EBFA;\n",
              "      box-shadow: 0px 1px 2px rgba(60, 64, 67, 0.3), 0px 1px 3px 1px rgba(60, 64, 67, 0.15);\n",
              "      fill: #174EA6;\n",
              "    }\n",
              "\n",
              "    [theme=dark] .colab-df-convert {\n",
              "      background-color: #3B4455;\n",
              "      fill: #D2E3FC;\n",
              "    }\n",
              "\n",
              "    [theme=dark] .colab-df-convert:hover {\n",
              "      background-color: #434B5C;\n",
              "      box-shadow: 0px 1px 3px 1px rgba(0, 0, 0, 0.15);\n",
              "      filter: drop-shadow(0px 1px 2px rgba(0, 0, 0, 0.3));\n",
              "      fill: #FFFFFF;\n",
              "    }\n",
              "  </style>\n",
              "\n",
              "      <script>\n",
              "        const buttonEl =\n",
              "          document.querySelector('#df-d3419e4f-1d30-4df6-89b6-228de1a9dce3 button.colab-df-convert');\n",
              "        buttonEl.style.display =\n",
              "          google.colab.kernel.accessAllowed ? 'block' : 'none';\n",
              "\n",
              "        async function convertToInteractive(key) {\n",
              "          const element = document.querySelector('#df-d3419e4f-1d30-4df6-89b6-228de1a9dce3');\n",
              "          const dataTable =\n",
              "            await google.colab.kernel.invokeFunction('convertToInteractive',\n",
              "                                                     [key], {});\n",
              "          if (!dataTable) return;\n",
              "\n",
              "          const docLinkHtml = 'Like what you see? Visit the ' +\n",
              "            '<a target=\"_blank\" href=https://colab.research.google.com/notebooks/data_table.ipynb>data table notebook</a>'\n",
              "            + ' to learn more about interactive tables.';\n",
              "          element.innerHTML = '';\n",
              "          dataTable['output_type'] = 'display_data';\n",
              "          await google.colab.output.renderOutput(dataTable, element);\n",
              "          const docLink = document.createElement('div');\n",
              "          docLink.innerHTML = docLinkHtml;\n",
              "          element.appendChild(docLink);\n",
              "        }\n",
              "      </script>\n",
              "    </div>\n",
              "  </div>\n",
              "  "
            ]
          },
          "metadata": {},
          "execution_count": 62
        }
      ]
    },
    {
      "cell_type": "code",
      "source": [
        "my_df.loc[ my_df[\"Name\"] == \"Mike\" ]"
      ],
      "metadata": {
        "colab": {
          "base_uri": "https://localhost:8080/",
          "height": 81
        },
        "id": "M6kDT0jqf18t",
        "outputId": "1607985f-ba80-4b48-c484-a488822ee557"
      },
      "execution_count": null,
      "outputs": [
        {
          "output_type": "execute_result",
          "data": {
            "text/plain": [
              "   Name  Age  Country\n",
              "1  Mike   12  England"
            ],
            "text/html": [
              "\n",
              "  <div id=\"df-f185e2f3-7bd9-4016-a46b-3fd1f6e73cd5\">\n",
              "    <div class=\"colab-df-container\">\n",
              "      <div>\n",
              "<style scoped>\n",
              "    .dataframe tbody tr th:only-of-type {\n",
              "        vertical-align: middle;\n",
              "    }\n",
              "\n",
              "    .dataframe tbody tr th {\n",
              "        vertical-align: top;\n",
              "    }\n",
              "\n",
              "    .dataframe thead th {\n",
              "        text-align: right;\n",
              "    }\n",
              "</style>\n",
              "<table border=\"1\" class=\"dataframe\">\n",
              "  <thead>\n",
              "    <tr style=\"text-align: right;\">\n",
              "      <th></th>\n",
              "      <th>Name</th>\n",
              "      <th>Age</th>\n",
              "      <th>Country</th>\n",
              "    </tr>\n",
              "  </thead>\n",
              "  <tbody>\n",
              "    <tr>\n",
              "      <th>1</th>\n",
              "      <td>Mike</td>\n",
              "      <td>12</td>\n",
              "      <td>England</td>\n",
              "    </tr>\n",
              "  </tbody>\n",
              "</table>\n",
              "</div>\n",
              "      <button class=\"colab-df-convert\" onclick=\"convertToInteractive('df-f185e2f3-7bd9-4016-a46b-3fd1f6e73cd5')\"\n",
              "              title=\"Convert this dataframe to an interactive table.\"\n",
              "              style=\"display:none;\">\n",
              "        \n",
              "  <svg xmlns=\"http://www.w3.org/2000/svg\" height=\"24px\"viewBox=\"0 0 24 24\"\n",
              "       width=\"24px\">\n",
              "    <path d=\"M0 0h24v24H0V0z\" fill=\"none\"/>\n",
              "    <path d=\"M18.56 5.44l.94 2.06.94-2.06 2.06-.94-2.06-.94-.94-2.06-.94 2.06-2.06.94zm-11 1L8.5 8.5l.94-2.06 2.06-.94-2.06-.94L8.5 2.5l-.94 2.06-2.06.94zm10 10l.94 2.06.94-2.06 2.06-.94-2.06-.94-.94-2.06-.94 2.06-2.06.94z\"/><path d=\"M17.41 7.96l-1.37-1.37c-.4-.4-.92-.59-1.43-.59-.52 0-1.04.2-1.43.59L10.3 9.45l-7.72 7.72c-.78.78-.78 2.05 0 2.83L4 21.41c.39.39.9.59 1.41.59.51 0 1.02-.2 1.41-.59l7.78-7.78 2.81-2.81c.8-.78.8-2.07 0-2.86zM5.41 20L4 18.59l7.72-7.72 1.47 1.35L5.41 20z\"/>\n",
              "  </svg>\n",
              "      </button>\n",
              "      \n",
              "  <style>\n",
              "    .colab-df-container {\n",
              "      display:flex;\n",
              "      flex-wrap:wrap;\n",
              "      gap: 12px;\n",
              "    }\n",
              "\n",
              "    .colab-df-convert {\n",
              "      background-color: #E8F0FE;\n",
              "      border: none;\n",
              "      border-radius: 50%;\n",
              "      cursor: pointer;\n",
              "      display: none;\n",
              "      fill: #1967D2;\n",
              "      height: 32px;\n",
              "      padding: 0 0 0 0;\n",
              "      width: 32px;\n",
              "    }\n",
              "\n",
              "    .colab-df-convert:hover {\n",
              "      background-color: #E2EBFA;\n",
              "      box-shadow: 0px 1px 2px rgba(60, 64, 67, 0.3), 0px 1px 3px 1px rgba(60, 64, 67, 0.15);\n",
              "      fill: #174EA6;\n",
              "    }\n",
              "\n",
              "    [theme=dark] .colab-df-convert {\n",
              "      background-color: #3B4455;\n",
              "      fill: #D2E3FC;\n",
              "    }\n",
              "\n",
              "    [theme=dark] .colab-df-convert:hover {\n",
              "      background-color: #434B5C;\n",
              "      box-shadow: 0px 1px 3px 1px rgba(0, 0, 0, 0.15);\n",
              "      filter: drop-shadow(0px 1px 2px rgba(0, 0, 0, 0.3));\n",
              "      fill: #FFFFFF;\n",
              "    }\n",
              "  </style>\n",
              "\n",
              "      <script>\n",
              "        const buttonEl =\n",
              "          document.querySelector('#df-f185e2f3-7bd9-4016-a46b-3fd1f6e73cd5 button.colab-df-convert');\n",
              "        buttonEl.style.display =\n",
              "          google.colab.kernel.accessAllowed ? 'block' : 'none';\n",
              "\n",
              "        async function convertToInteractive(key) {\n",
              "          const element = document.querySelector('#df-f185e2f3-7bd9-4016-a46b-3fd1f6e73cd5');\n",
              "          const dataTable =\n",
              "            await google.colab.kernel.invokeFunction('convertToInteractive',\n",
              "                                                     [key], {});\n",
              "          if (!dataTable) return;\n",
              "\n",
              "          const docLinkHtml = 'Like what you see? Visit the ' +\n",
              "            '<a target=\"_blank\" href=https://colab.research.google.com/notebooks/data_table.ipynb>data table notebook</a>'\n",
              "            + ' to learn more about interactive tables.';\n",
              "          element.innerHTML = '';\n",
              "          dataTable['output_type'] = 'display_data';\n",
              "          await google.colab.output.renderOutput(dataTable, element);\n",
              "          const docLink = document.createElement('div');\n",
              "          docLink.innerHTML = docLinkHtml;\n",
              "          element.appendChild(docLink);\n",
              "        }\n",
              "      </script>\n",
              "    </div>\n",
              "  </div>\n",
              "  "
            ]
          },
          "metadata": {},
          "execution_count": 67
        }
      ]
    },
    {
      "cell_type": "code",
      "source": [
        "my_df.loc[ my_df[\"Country\"] == \"England\" ]"
      ],
      "metadata": {
        "colab": {
          "base_uri": "https://localhost:8080/",
          "height": 112
        },
        "id": "2vRZBjE3hfMw",
        "outputId": "5c654153-5d25-45ce-ad2e-b1c3ca28be7a"
      },
      "execution_count": null,
      "outputs": [
        {
          "output_type": "execute_result",
          "data": {
            "text/plain": [
              "        Name  Age  Country\n",
              "1       Mike   12  England\n",
              "3  Elizabeth   94  England"
            ],
            "text/html": [
              "\n",
              "  <div id=\"df-af122d16-3eee-4594-b6c7-fd0486557ab4\">\n",
              "    <div class=\"colab-df-container\">\n",
              "      <div>\n",
              "<style scoped>\n",
              "    .dataframe tbody tr th:only-of-type {\n",
              "        vertical-align: middle;\n",
              "    }\n",
              "\n",
              "    .dataframe tbody tr th {\n",
              "        vertical-align: top;\n",
              "    }\n",
              "\n",
              "    .dataframe thead th {\n",
              "        text-align: right;\n",
              "    }\n",
              "</style>\n",
              "<table border=\"1\" class=\"dataframe\">\n",
              "  <thead>\n",
              "    <tr style=\"text-align: right;\">\n",
              "      <th></th>\n",
              "      <th>Name</th>\n",
              "      <th>Age</th>\n",
              "      <th>Country</th>\n",
              "    </tr>\n",
              "  </thead>\n",
              "  <tbody>\n",
              "    <tr>\n",
              "      <th>1</th>\n",
              "      <td>Mike</td>\n",
              "      <td>12</td>\n",
              "      <td>England</td>\n",
              "    </tr>\n",
              "    <tr>\n",
              "      <th>3</th>\n",
              "      <td>Elizabeth</td>\n",
              "      <td>94</td>\n",
              "      <td>England</td>\n",
              "    </tr>\n",
              "  </tbody>\n",
              "</table>\n",
              "</div>\n",
              "      <button class=\"colab-df-convert\" onclick=\"convertToInteractive('df-af122d16-3eee-4594-b6c7-fd0486557ab4')\"\n",
              "              title=\"Convert this dataframe to an interactive table.\"\n",
              "              style=\"display:none;\">\n",
              "        \n",
              "  <svg xmlns=\"http://www.w3.org/2000/svg\" height=\"24px\"viewBox=\"0 0 24 24\"\n",
              "       width=\"24px\">\n",
              "    <path d=\"M0 0h24v24H0V0z\" fill=\"none\"/>\n",
              "    <path d=\"M18.56 5.44l.94 2.06.94-2.06 2.06-.94-2.06-.94-.94-2.06-.94 2.06-2.06.94zm-11 1L8.5 8.5l.94-2.06 2.06-.94-2.06-.94L8.5 2.5l-.94 2.06-2.06.94zm10 10l.94 2.06.94-2.06 2.06-.94-2.06-.94-.94-2.06-.94 2.06-2.06.94z\"/><path d=\"M17.41 7.96l-1.37-1.37c-.4-.4-.92-.59-1.43-.59-.52 0-1.04.2-1.43.59L10.3 9.45l-7.72 7.72c-.78.78-.78 2.05 0 2.83L4 21.41c.39.39.9.59 1.41.59.51 0 1.02-.2 1.41-.59l7.78-7.78 2.81-2.81c.8-.78.8-2.07 0-2.86zM5.41 20L4 18.59l7.72-7.72 1.47 1.35L5.41 20z\"/>\n",
              "  </svg>\n",
              "      </button>\n",
              "      \n",
              "  <style>\n",
              "    .colab-df-container {\n",
              "      display:flex;\n",
              "      flex-wrap:wrap;\n",
              "      gap: 12px;\n",
              "    }\n",
              "\n",
              "    .colab-df-convert {\n",
              "      background-color: #E8F0FE;\n",
              "      border: none;\n",
              "      border-radius: 50%;\n",
              "      cursor: pointer;\n",
              "      display: none;\n",
              "      fill: #1967D2;\n",
              "      height: 32px;\n",
              "      padding: 0 0 0 0;\n",
              "      width: 32px;\n",
              "    }\n",
              "\n",
              "    .colab-df-convert:hover {\n",
              "      background-color: #E2EBFA;\n",
              "      box-shadow: 0px 1px 2px rgba(60, 64, 67, 0.3), 0px 1px 3px 1px rgba(60, 64, 67, 0.15);\n",
              "      fill: #174EA6;\n",
              "    }\n",
              "\n",
              "    [theme=dark] .colab-df-convert {\n",
              "      background-color: #3B4455;\n",
              "      fill: #D2E3FC;\n",
              "    }\n",
              "\n",
              "    [theme=dark] .colab-df-convert:hover {\n",
              "      background-color: #434B5C;\n",
              "      box-shadow: 0px 1px 3px 1px rgba(0, 0, 0, 0.15);\n",
              "      filter: drop-shadow(0px 1px 2px rgba(0, 0, 0, 0.3));\n",
              "      fill: #FFFFFF;\n",
              "    }\n",
              "  </style>\n",
              "\n",
              "      <script>\n",
              "        const buttonEl =\n",
              "          document.querySelector('#df-af122d16-3eee-4594-b6c7-fd0486557ab4 button.colab-df-convert');\n",
              "        buttonEl.style.display =\n",
              "          google.colab.kernel.accessAllowed ? 'block' : 'none';\n",
              "\n",
              "        async function convertToInteractive(key) {\n",
              "          const element = document.querySelector('#df-af122d16-3eee-4594-b6c7-fd0486557ab4');\n",
              "          const dataTable =\n",
              "            await google.colab.kernel.invokeFunction('convertToInteractive',\n",
              "                                                     [key], {});\n",
              "          if (!dataTable) return;\n",
              "\n",
              "          const docLinkHtml = 'Like what you see? Visit the ' +\n",
              "            '<a target=\"_blank\" href=https://colab.research.google.com/notebooks/data_table.ipynb>data table notebook</a>'\n",
              "            + ' to learn more about interactive tables.';\n",
              "          element.innerHTML = '';\n",
              "          dataTable['output_type'] = 'display_data';\n",
              "          await google.colab.output.renderOutput(dataTable, element);\n",
              "          const docLink = document.createElement('div');\n",
              "          docLink.innerHTML = docLinkHtml;\n",
              "          element.appendChild(docLink);\n",
              "        }\n",
              "      </script>\n",
              "    </div>\n",
              "  </div>\n",
              "  "
            ]
          },
          "metadata": {},
          "execution_count": 68
        }
      ]
    },
    {
      "cell_type": "code",
      "source": [
        "# Slice the Dataframe\n",
        "\n",
        "my_features = my_df.iloc[ : , 0: 1]"
      ],
      "metadata": {
        "id": "m77e288WglC0"
      },
      "execution_count": null,
      "outputs": []
    },
    {
      "cell_type": "code",
      "source": [
        "my_features"
      ],
      "metadata": {
        "colab": {
          "base_uri": "https://localhost:8080/",
          "height": 175
        },
        "id": "R7QhyjtYiHCu",
        "outputId": "c6b5b5ac-12fd-4c83-fda4-e2ccce02518d"
      },
      "execution_count": null,
      "outputs": [
        {
          "output_type": "execute_result",
          "data": {
            "text/plain": [
              "        Name\n",
              "0       John\n",
              "1       Mike\n",
              "2       Josh\n",
              "3  Elizabeth"
            ],
            "text/html": [
              "\n",
              "  <div id=\"df-34735001-fdcf-46e8-9a88-8a4f8cfe17c3\">\n",
              "    <div class=\"colab-df-container\">\n",
              "      <div>\n",
              "<style scoped>\n",
              "    .dataframe tbody tr th:only-of-type {\n",
              "        vertical-align: middle;\n",
              "    }\n",
              "\n",
              "    .dataframe tbody tr th {\n",
              "        vertical-align: top;\n",
              "    }\n",
              "\n",
              "    .dataframe thead th {\n",
              "        text-align: right;\n",
              "    }\n",
              "</style>\n",
              "<table border=\"1\" class=\"dataframe\">\n",
              "  <thead>\n",
              "    <tr style=\"text-align: right;\">\n",
              "      <th></th>\n",
              "      <th>Name</th>\n",
              "    </tr>\n",
              "  </thead>\n",
              "  <tbody>\n",
              "    <tr>\n",
              "      <th>0</th>\n",
              "      <td>John</td>\n",
              "    </tr>\n",
              "    <tr>\n",
              "      <th>1</th>\n",
              "      <td>Mike</td>\n",
              "    </tr>\n",
              "    <tr>\n",
              "      <th>2</th>\n",
              "      <td>Josh</td>\n",
              "    </tr>\n",
              "    <tr>\n",
              "      <th>3</th>\n",
              "      <td>Elizabeth</td>\n",
              "    </tr>\n",
              "  </tbody>\n",
              "</table>\n",
              "</div>\n",
              "      <button class=\"colab-df-convert\" onclick=\"convertToInteractive('df-34735001-fdcf-46e8-9a88-8a4f8cfe17c3')\"\n",
              "              title=\"Convert this dataframe to an interactive table.\"\n",
              "              style=\"display:none;\">\n",
              "        \n",
              "  <svg xmlns=\"http://www.w3.org/2000/svg\" height=\"24px\"viewBox=\"0 0 24 24\"\n",
              "       width=\"24px\">\n",
              "    <path d=\"M0 0h24v24H0V0z\" fill=\"none\"/>\n",
              "    <path d=\"M18.56 5.44l.94 2.06.94-2.06 2.06-.94-2.06-.94-.94-2.06-.94 2.06-2.06.94zm-11 1L8.5 8.5l.94-2.06 2.06-.94-2.06-.94L8.5 2.5l-.94 2.06-2.06.94zm10 10l.94 2.06.94-2.06 2.06-.94-2.06-.94-.94-2.06-.94 2.06-2.06.94z\"/><path d=\"M17.41 7.96l-1.37-1.37c-.4-.4-.92-.59-1.43-.59-.52 0-1.04.2-1.43.59L10.3 9.45l-7.72 7.72c-.78.78-.78 2.05 0 2.83L4 21.41c.39.39.9.59 1.41.59.51 0 1.02-.2 1.41-.59l7.78-7.78 2.81-2.81c.8-.78.8-2.07 0-2.86zM5.41 20L4 18.59l7.72-7.72 1.47 1.35L5.41 20z\"/>\n",
              "  </svg>\n",
              "      </button>\n",
              "      \n",
              "  <style>\n",
              "    .colab-df-container {\n",
              "      display:flex;\n",
              "      flex-wrap:wrap;\n",
              "      gap: 12px;\n",
              "    }\n",
              "\n",
              "    .colab-df-convert {\n",
              "      background-color: #E8F0FE;\n",
              "      border: none;\n",
              "      border-radius: 50%;\n",
              "      cursor: pointer;\n",
              "      display: none;\n",
              "      fill: #1967D2;\n",
              "      height: 32px;\n",
              "      padding: 0 0 0 0;\n",
              "      width: 32px;\n",
              "    }\n",
              "\n",
              "    .colab-df-convert:hover {\n",
              "      background-color: #E2EBFA;\n",
              "      box-shadow: 0px 1px 2px rgba(60, 64, 67, 0.3), 0px 1px 3px 1px rgba(60, 64, 67, 0.15);\n",
              "      fill: #174EA6;\n",
              "    }\n",
              "\n",
              "    [theme=dark] .colab-df-convert {\n",
              "      background-color: #3B4455;\n",
              "      fill: #D2E3FC;\n",
              "    }\n",
              "\n",
              "    [theme=dark] .colab-df-convert:hover {\n",
              "      background-color: #434B5C;\n",
              "      box-shadow: 0px 1px 3px 1px rgba(0, 0, 0, 0.15);\n",
              "      filter: drop-shadow(0px 1px 2px rgba(0, 0, 0, 0.3));\n",
              "      fill: #FFFFFF;\n",
              "    }\n",
              "  </style>\n",
              "\n",
              "      <script>\n",
              "        const buttonEl =\n",
              "          document.querySelector('#df-34735001-fdcf-46e8-9a88-8a4f8cfe17c3 button.colab-df-convert');\n",
              "        buttonEl.style.display =\n",
              "          google.colab.kernel.accessAllowed ? 'block' : 'none';\n",
              "\n",
              "        async function convertToInteractive(key) {\n",
              "          const element = document.querySelector('#df-34735001-fdcf-46e8-9a88-8a4f8cfe17c3');\n",
              "          const dataTable =\n",
              "            await google.colab.kernel.invokeFunction('convertToInteractive',\n",
              "                                                     [key], {});\n",
              "          if (!dataTable) return;\n",
              "\n",
              "          const docLinkHtml = 'Like what you see? Visit the ' +\n",
              "            '<a target=\"_blank\" href=https://colab.research.google.com/notebooks/data_table.ipynb>data table notebook</a>'\n",
              "            + ' to learn more about interactive tables.';\n",
              "          element.innerHTML = '';\n",
              "          dataTable['output_type'] = 'display_data';\n",
              "          await google.colab.output.renderOutput(dataTable, element);\n",
              "          const docLink = document.createElement('div');\n",
              "          docLink.innerHTML = docLinkHtml;\n",
              "          element.appendChild(docLink);\n",
              "        }\n",
              "      </script>\n",
              "    </div>\n",
              "  </div>\n",
              "  "
            ]
          },
          "metadata": {},
          "execution_count": 70
        }
      ]
    },
    {
      "cell_type": "code",
      "source": [
        "my_features = my_df.iloc[ : , 0: 2]\n",
        "my_features"
      ],
      "metadata": {
        "colab": {
          "base_uri": "https://localhost:8080/",
          "height": 175
        },
        "id": "buSVBGi3iQkR",
        "outputId": "963ec810-9ce1-451d-f57b-0577dd3555c9"
      },
      "execution_count": null,
      "outputs": [
        {
          "output_type": "execute_result",
          "data": {
            "text/plain": [
              "        Name  Age\n",
              "0       John   10\n",
              "1       Mike   12\n",
              "2       Josh   14\n",
              "3  Elizabeth   94"
            ],
            "text/html": [
              "\n",
              "  <div id=\"df-73faee5c-44c5-4a9a-a09e-f123894d8df2\">\n",
              "    <div class=\"colab-df-container\">\n",
              "      <div>\n",
              "<style scoped>\n",
              "    .dataframe tbody tr th:only-of-type {\n",
              "        vertical-align: middle;\n",
              "    }\n",
              "\n",
              "    .dataframe tbody tr th {\n",
              "        vertical-align: top;\n",
              "    }\n",
              "\n",
              "    .dataframe thead th {\n",
              "        text-align: right;\n",
              "    }\n",
              "</style>\n",
              "<table border=\"1\" class=\"dataframe\">\n",
              "  <thead>\n",
              "    <tr style=\"text-align: right;\">\n",
              "      <th></th>\n",
              "      <th>Name</th>\n",
              "      <th>Age</th>\n",
              "    </tr>\n",
              "  </thead>\n",
              "  <tbody>\n",
              "    <tr>\n",
              "      <th>0</th>\n",
              "      <td>John</td>\n",
              "      <td>10</td>\n",
              "    </tr>\n",
              "    <tr>\n",
              "      <th>1</th>\n",
              "      <td>Mike</td>\n",
              "      <td>12</td>\n",
              "    </tr>\n",
              "    <tr>\n",
              "      <th>2</th>\n",
              "      <td>Josh</td>\n",
              "      <td>14</td>\n",
              "    </tr>\n",
              "    <tr>\n",
              "      <th>3</th>\n",
              "      <td>Elizabeth</td>\n",
              "      <td>94</td>\n",
              "    </tr>\n",
              "  </tbody>\n",
              "</table>\n",
              "</div>\n",
              "      <button class=\"colab-df-convert\" onclick=\"convertToInteractive('df-73faee5c-44c5-4a9a-a09e-f123894d8df2')\"\n",
              "              title=\"Convert this dataframe to an interactive table.\"\n",
              "              style=\"display:none;\">\n",
              "        \n",
              "  <svg xmlns=\"http://www.w3.org/2000/svg\" height=\"24px\"viewBox=\"0 0 24 24\"\n",
              "       width=\"24px\">\n",
              "    <path d=\"M0 0h24v24H0V0z\" fill=\"none\"/>\n",
              "    <path d=\"M18.56 5.44l.94 2.06.94-2.06 2.06-.94-2.06-.94-.94-2.06-.94 2.06-2.06.94zm-11 1L8.5 8.5l.94-2.06 2.06-.94-2.06-.94L8.5 2.5l-.94 2.06-2.06.94zm10 10l.94 2.06.94-2.06 2.06-.94-2.06-.94-.94-2.06-.94 2.06-2.06.94z\"/><path d=\"M17.41 7.96l-1.37-1.37c-.4-.4-.92-.59-1.43-.59-.52 0-1.04.2-1.43.59L10.3 9.45l-7.72 7.72c-.78.78-.78 2.05 0 2.83L4 21.41c.39.39.9.59 1.41.59.51 0 1.02-.2 1.41-.59l7.78-7.78 2.81-2.81c.8-.78.8-2.07 0-2.86zM5.41 20L4 18.59l7.72-7.72 1.47 1.35L5.41 20z\"/>\n",
              "  </svg>\n",
              "      </button>\n",
              "      \n",
              "  <style>\n",
              "    .colab-df-container {\n",
              "      display:flex;\n",
              "      flex-wrap:wrap;\n",
              "      gap: 12px;\n",
              "    }\n",
              "\n",
              "    .colab-df-convert {\n",
              "      background-color: #E8F0FE;\n",
              "      border: none;\n",
              "      border-radius: 50%;\n",
              "      cursor: pointer;\n",
              "      display: none;\n",
              "      fill: #1967D2;\n",
              "      height: 32px;\n",
              "      padding: 0 0 0 0;\n",
              "      width: 32px;\n",
              "    }\n",
              "\n",
              "    .colab-df-convert:hover {\n",
              "      background-color: #E2EBFA;\n",
              "      box-shadow: 0px 1px 2px rgba(60, 64, 67, 0.3), 0px 1px 3px 1px rgba(60, 64, 67, 0.15);\n",
              "      fill: #174EA6;\n",
              "    }\n",
              "\n",
              "    [theme=dark] .colab-df-convert {\n",
              "      background-color: #3B4455;\n",
              "      fill: #D2E3FC;\n",
              "    }\n",
              "\n",
              "    [theme=dark] .colab-df-convert:hover {\n",
              "      background-color: #434B5C;\n",
              "      box-shadow: 0px 1px 3px 1px rgba(0, 0, 0, 0.15);\n",
              "      filter: drop-shadow(0px 1px 2px rgba(0, 0, 0, 0.3));\n",
              "      fill: #FFFFFF;\n",
              "    }\n",
              "  </style>\n",
              "\n",
              "      <script>\n",
              "        const buttonEl =\n",
              "          document.querySelector('#df-73faee5c-44c5-4a9a-a09e-f123894d8df2 button.colab-df-convert');\n",
              "        buttonEl.style.display =\n",
              "          google.colab.kernel.accessAllowed ? 'block' : 'none';\n",
              "\n",
              "        async function convertToInteractive(key) {\n",
              "          const element = document.querySelector('#df-73faee5c-44c5-4a9a-a09e-f123894d8df2');\n",
              "          const dataTable =\n",
              "            await google.colab.kernel.invokeFunction('convertToInteractive',\n",
              "                                                     [key], {});\n",
              "          if (!dataTable) return;\n",
              "\n",
              "          const docLinkHtml = 'Like what you see? Visit the ' +\n",
              "            '<a target=\"_blank\" href=https://colab.research.google.com/notebooks/data_table.ipynb>data table notebook</a>'\n",
              "            + ' to learn more about interactive tables.';\n",
              "          element.innerHTML = '';\n",
              "          dataTable['output_type'] = 'display_data';\n",
              "          await google.colab.output.renderOutput(dataTable, element);\n",
              "          const docLink = document.createElement('div');\n",
              "          docLink.innerHTML = docLinkHtml;\n",
              "          element.appendChild(docLink);\n",
              "        }\n",
              "      </script>\n",
              "    </div>\n",
              "  </div>\n",
              "  "
            ]
          },
          "metadata": {},
          "execution_count": 71
        }
      ]
    },
    {
      "cell_type": "code",
      "source": [
        "my_label = my_df.iloc[ : , -1]\n",
        "my_label"
      ],
      "metadata": {
        "colab": {
          "base_uri": "https://localhost:8080/"
        },
        "id": "jUv4bTH6ileB",
        "outputId": "a0ab58ff-e96d-4051-af32-8a9da52a4cd8"
      },
      "execution_count": null,
      "outputs": [
        {
          "output_type": "execute_result",
          "data": {
            "text/plain": [
              "0        USA\n",
              "1    England\n",
              "2    Nigeria\n",
              "3    England\n",
              "Name: Country, dtype: object"
            ]
          },
          "metadata": {},
          "execution_count": 72
        }
      ]
    },
    {
      "cell_type": "code",
      "source": [
        "my_features , my_labels= my_df.iloc[ : , 0: 2] , my_df.iloc[ : , -1]"
      ],
      "metadata": {
        "id": "s31t6eOzizBm"
      },
      "execution_count": null,
      "outputs": []
    },
    {
      "cell_type": "code",
      "source": [
        "my_features"
      ],
      "metadata": {
        "colab": {
          "base_uri": "https://localhost:8080/",
          "height": 175
        },
        "id": "b5NtNP5fi55c",
        "outputId": "e26dbbf6-bed1-43cb-f4b8-37f844a12de3"
      },
      "execution_count": null,
      "outputs": [
        {
          "output_type": "execute_result",
          "data": {
            "text/plain": [
              "        Name  Age\n",
              "0       John   10\n",
              "1       Mike   12\n",
              "2       Josh   14\n",
              "3  Elizabeth   94"
            ],
            "text/html": [
              "\n",
              "  <div id=\"df-5918872d-6042-40a8-951e-0ebee6277888\">\n",
              "    <div class=\"colab-df-container\">\n",
              "      <div>\n",
              "<style scoped>\n",
              "    .dataframe tbody tr th:only-of-type {\n",
              "        vertical-align: middle;\n",
              "    }\n",
              "\n",
              "    .dataframe tbody tr th {\n",
              "        vertical-align: top;\n",
              "    }\n",
              "\n",
              "    .dataframe thead th {\n",
              "        text-align: right;\n",
              "    }\n",
              "</style>\n",
              "<table border=\"1\" class=\"dataframe\">\n",
              "  <thead>\n",
              "    <tr style=\"text-align: right;\">\n",
              "      <th></th>\n",
              "      <th>Name</th>\n",
              "      <th>Age</th>\n",
              "    </tr>\n",
              "  </thead>\n",
              "  <tbody>\n",
              "    <tr>\n",
              "      <th>0</th>\n",
              "      <td>John</td>\n",
              "      <td>10</td>\n",
              "    </tr>\n",
              "    <tr>\n",
              "      <th>1</th>\n",
              "      <td>Mike</td>\n",
              "      <td>12</td>\n",
              "    </tr>\n",
              "    <tr>\n",
              "      <th>2</th>\n",
              "      <td>Josh</td>\n",
              "      <td>14</td>\n",
              "    </tr>\n",
              "    <tr>\n",
              "      <th>3</th>\n",
              "      <td>Elizabeth</td>\n",
              "      <td>94</td>\n",
              "    </tr>\n",
              "  </tbody>\n",
              "</table>\n",
              "</div>\n",
              "      <button class=\"colab-df-convert\" onclick=\"convertToInteractive('df-5918872d-6042-40a8-951e-0ebee6277888')\"\n",
              "              title=\"Convert this dataframe to an interactive table.\"\n",
              "              style=\"display:none;\">\n",
              "        \n",
              "  <svg xmlns=\"http://www.w3.org/2000/svg\" height=\"24px\"viewBox=\"0 0 24 24\"\n",
              "       width=\"24px\">\n",
              "    <path d=\"M0 0h24v24H0V0z\" fill=\"none\"/>\n",
              "    <path d=\"M18.56 5.44l.94 2.06.94-2.06 2.06-.94-2.06-.94-.94-2.06-.94 2.06-2.06.94zm-11 1L8.5 8.5l.94-2.06 2.06-.94-2.06-.94L8.5 2.5l-.94 2.06-2.06.94zm10 10l.94 2.06.94-2.06 2.06-.94-2.06-.94-.94-2.06-.94 2.06-2.06.94z\"/><path d=\"M17.41 7.96l-1.37-1.37c-.4-.4-.92-.59-1.43-.59-.52 0-1.04.2-1.43.59L10.3 9.45l-7.72 7.72c-.78.78-.78 2.05 0 2.83L4 21.41c.39.39.9.59 1.41.59.51 0 1.02-.2 1.41-.59l7.78-7.78 2.81-2.81c.8-.78.8-2.07 0-2.86zM5.41 20L4 18.59l7.72-7.72 1.47 1.35L5.41 20z\"/>\n",
              "  </svg>\n",
              "      </button>\n",
              "      \n",
              "  <style>\n",
              "    .colab-df-container {\n",
              "      display:flex;\n",
              "      flex-wrap:wrap;\n",
              "      gap: 12px;\n",
              "    }\n",
              "\n",
              "    .colab-df-convert {\n",
              "      background-color: #E8F0FE;\n",
              "      border: none;\n",
              "      border-radius: 50%;\n",
              "      cursor: pointer;\n",
              "      display: none;\n",
              "      fill: #1967D2;\n",
              "      height: 32px;\n",
              "      padding: 0 0 0 0;\n",
              "      width: 32px;\n",
              "    }\n",
              "\n",
              "    .colab-df-convert:hover {\n",
              "      background-color: #E2EBFA;\n",
              "      box-shadow: 0px 1px 2px rgba(60, 64, 67, 0.3), 0px 1px 3px 1px rgba(60, 64, 67, 0.15);\n",
              "      fill: #174EA6;\n",
              "    }\n",
              "\n",
              "    [theme=dark] .colab-df-convert {\n",
              "      background-color: #3B4455;\n",
              "      fill: #D2E3FC;\n",
              "    }\n",
              "\n",
              "    [theme=dark] .colab-df-convert:hover {\n",
              "      background-color: #434B5C;\n",
              "      box-shadow: 0px 1px 3px 1px rgba(0, 0, 0, 0.15);\n",
              "      filter: drop-shadow(0px 1px 2px rgba(0, 0, 0, 0.3));\n",
              "      fill: #FFFFFF;\n",
              "    }\n",
              "  </style>\n",
              "\n",
              "      <script>\n",
              "        const buttonEl =\n",
              "          document.querySelector('#df-5918872d-6042-40a8-951e-0ebee6277888 button.colab-df-convert');\n",
              "        buttonEl.style.display =\n",
              "          google.colab.kernel.accessAllowed ? 'block' : 'none';\n",
              "\n",
              "        async function convertToInteractive(key) {\n",
              "          const element = document.querySelector('#df-5918872d-6042-40a8-951e-0ebee6277888');\n",
              "          const dataTable =\n",
              "            await google.colab.kernel.invokeFunction('convertToInteractive',\n",
              "                                                     [key], {});\n",
              "          if (!dataTable) return;\n",
              "\n",
              "          const docLinkHtml = 'Like what you see? Visit the ' +\n",
              "            '<a target=\"_blank\" href=https://colab.research.google.com/notebooks/data_table.ipynb>data table notebook</a>'\n",
              "            + ' to learn more about interactive tables.';\n",
              "          element.innerHTML = '';\n",
              "          dataTable['output_type'] = 'display_data';\n",
              "          await google.colab.output.renderOutput(dataTable, element);\n",
              "          const docLink = document.createElement('div');\n",
              "          docLink.innerHTML = docLinkHtml;\n",
              "          element.appendChild(docLink);\n",
              "        }\n",
              "      </script>\n",
              "    </div>\n",
              "  </div>\n",
              "  "
            ]
          },
          "metadata": {},
          "execution_count": 74
        }
      ]
    },
    {
      "cell_type": "code",
      "source": [
        "my_labels"
      ],
      "metadata": {
        "colab": {
          "base_uri": "https://localhost:8080/"
        },
        "id": "UIQFCcYri7a3",
        "outputId": "db2ce1ef-f9e6-407b-b1cc-e383e0e96e0b"
      },
      "execution_count": null,
      "outputs": [
        {
          "output_type": "execute_result",
          "data": {
            "text/plain": [
              "0        USA\n",
              "1    England\n",
              "2    Nigeria\n",
              "3    England\n",
              "Name: Country, dtype: object"
            ]
          },
          "metadata": {},
          "execution_count": 75
        }
      ]
    },
    {
      "cell_type": "markdown",
      "source": [
        "# Real World"
      ],
      "metadata": {
        "id": "n0GTFjiEjoVX"
      }
    },
    {
      "cell_type": "code",
      "source": [
        "pip install wget"
      ],
      "metadata": {
        "colab": {
          "base_uri": "https://localhost:8080/"
        },
        "id": "mS0SUCgwjzLW",
        "outputId": "9d45f835-9ffe-47a2-9452-0d96cacf6b85"
      },
      "execution_count": null,
      "outputs": [
        {
          "output_type": "stream",
          "name": "stdout",
          "text": [
            "Looking in indexes: https://pypi.org/simple, https://us-python.pkg.dev/colab-wheels/public/simple/\n",
            "Collecting wget\n",
            "  Downloading wget-3.2.zip (10 kB)\n",
            "Building wheels for collected packages: wget\n",
            "  Building wheel for wget (setup.py) ... \u001b[?25l\u001b[?25hdone\n",
            "  Created wheel for wget: filename=wget-3.2-py3-none-any.whl size=9675 sha256=8ce0ebab887b364994bce492ce689dd00bbc802ef220e2c4563d6fddbb41c92c\n",
            "  Stored in directory: /root/.cache/pip/wheels/a1/b6/7c/0e63e34eb06634181c63adacca38b79ff8f35c37e3c13e3c02\n",
            "Successfully built wget\n",
            "Installing collected packages: wget\n",
            "Successfully installed wget-3.2\n"
          ]
        }
      ]
    },
    {
      "cell_type": "code",
      "source": [
        "import wget"
      ],
      "metadata": {
        "id": "pcEHsVqgjr9d"
      },
      "execution_count": null,
      "outputs": []
    },
    {
      "cell_type": "code",
      "source": [
        "# download the data\n",
        "!wget https://github.com/x4nth055/pythoncode-tutorials/raw/master/machine-learning/customer-churn-detection/Churn_Modelling.csv"
      ],
      "metadata": {
        "id": "q2OnA-Yfj4v-"
      },
      "execution_count": null,
      "outputs": []
    },
    {
      "cell_type": "code",
      "source": [
        "import pandas as pd"
      ],
      "metadata": {
        "id": "qGEwGjz7kQqH"
      },
      "execution_count": null,
      "outputs": []
    },
    {
      "cell_type": "code",
      "source": [
        "my_df_churn_modeling = pd.read_csv(\"Churn_Modelling.csv\")"
      ],
      "metadata": {
        "id": "LywjO5pqjxua"
      },
      "execution_count": null,
      "outputs": []
    },
    {
      "cell_type": "code",
      "source": [
        "my_df_chur_modeling.head(5)"
      ],
      "metadata": {
        "colab": {
          "base_uri": "https://localhost:8080/",
          "height": 270
        },
        "id": "vm_zcVtlmbLF",
        "outputId": "777b3e5f-ef37-4f8f-cb87-901b7c6ab141"
      },
      "execution_count": null,
      "outputs": [
        {
          "output_type": "execute_result",
          "data": {
            "text/plain": [
              "   RowNumber  CustomerId   Surname  CreditScore Geography  Gender  Age  \\\n",
              "0          1    15634602  Hargrave          619    France  Female   42   \n",
              "1          2    15647311      Hill          608     Spain  Female   41   \n",
              "2          3    15619304      Onio          502    France  Female   42   \n",
              "3          4    15701354      Boni          699    France  Female   39   \n",
              "4          5    15737888  Mitchell          850     Spain  Female   43   \n",
              "\n",
              "   Tenure    Balance  NumOfProducts  HasCrCard  IsActiveMember  \\\n",
              "0       2       0.00              1          1               1   \n",
              "1       1   83807.86              1          0               1   \n",
              "2       8  159660.80              3          1               0   \n",
              "3       1       0.00              2          0               0   \n",
              "4       2  125510.82              1          1               1   \n",
              "\n",
              "   EstimatedSalary  Exited  \n",
              "0        101348.88       1  \n",
              "1        112542.58       0  \n",
              "2        113931.57       1  \n",
              "3         93826.63       0  \n",
              "4         79084.10       0  "
            ],
            "text/html": [
              "\n",
              "  <div id=\"df-eba91ddc-4b0a-4beb-9e35-9e0f2a7e81fd\">\n",
              "    <div class=\"colab-df-container\">\n",
              "      <div>\n",
              "<style scoped>\n",
              "    .dataframe tbody tr th:only-of-type {\n",
              "        vertical-align: middle;\n",
              "    }\n",
              "\n",
              "    .dataframe tbody tr th {\n",
              "        vertical-align: top;\n",
              "    }\n",
              "\n",
              "    .dataframe thead th {\n",
              "        text-align: right;\n",
              "    }\n",
              "</style>\n",
              "<table border=\"1\" class=\"dataframe\">\n",
              "  <thead>\n",
              "    <tr style=\"text-align: right;\">\n",
              "      <th></th>\n",
              "      <th>RowNumber</th>\n",
              "      <th>CustomerId</th>\n",
              "      <th>Surname</th>\n",
              "      <th>CreditScore</th>\n",
              "      <th>Geography</th>\n",
              "      <th>Gender</th>\n",
              "      <th>Age</th>\n",
              "      <th>Tenure</th>\n",
              "      <th>Balance</th>\n",
              "      <th>NumOfProducts</th>\n",
              "      <th>HasCrCard</th>\n",
              "      <th>IsActiveMember</th>\n",
              "      <th>EstimatedSalary</th>\n",
              "      <th>Exited</th>\n",
              "    </tr>\n",
              "  </thead>\n",
              "  <tbody>\n",
              "    <tr>\n",
              "      <th>0</th>\n",
              "      <td>1</td>\n",
              "      <td>15634602</td>\n",
              "      <td>Hargrave</td>\n",
              "      <td>619</td>\n",
              "      <td>France</td>\n",
              "      <td>Female</td>\n",
              "      <td>42</td>\n",
              "      <td>2</td>\n",
              "      <td>0.00</td>\n",
              "      <td>1</td>\n",
              "      <td>1</td>\n",
              "      <td>1</td>\n",
              "      <td>101348.88</td>\n",
              "      <td>1</td>\n",
              "    </tr>\n",
              "    <tr>\n",
              "      <th>1</th>\n",
              "      <td>2</td>\n",
              "      <td>15647311</td>\n",
              "      <td>Hill</td>\n",
              "      <td>608</td>\n",
              "      <td>Spain</td>\n",
              "      <td>Female</td>\n",
              "      <td>41</td>\n",
              "      <td>1</td>\n",
              "      <td>83807.86</td>\n",
              "      <td>1</td>\n",
              "      <td>0</td>\n",
              "      <td>1</td>\n",
              "      <td>112542.58</td>\n",
              "      <td>0</td>\n",
              "    </tr>\n",
              "    <tr>\n",
              "      <th>2</th>\n",
              "      <td>3</td>\n",
              "      <td>15619304</td>\n",
              "      <td>Onio</td>\n",
              "      <td>502</td>\n",
              "      <td>France</td>\n",
              "      <td>Female</td>\n",
              "      <td>42</td>\n",
              "      <td>8</td>\n",
              "      <td>159660.80</td>\n",
              "      <td>3</td>\n",
              "      <td>1</td>\n",
              "      <td>0</td>\n",
              "      <td>113931.57</td>\n",
              "      <td>1</td>\n",
              "    </tr>\n",
              "    <tr>\n",
              "      <th>3</th>\n",
              "      <td>4</td>\n",
              "      <td>15701354</td>\n",
              "      <td>Boni</td>\n",
              "      <td>699</td>\n",
              "      <td>France</td>\n",
              "      <td>Female</td>\n",
              "      <td>39</td>\n",
              "      <td>1</td>\n",
              "      <td>0.00</td>\n",
              "      <td>2</td>\n",
              "      <td>0</td>\n",
              "      <td>0</td>\n",
              "      <td>93826.63</td>\n",
              "      <td>0</td>\n",
              "    </tr>\n",
              "    <tr>\n",
              "      <th>4</th>\n",
              "      <td>5</td>\n",
              "      <td>15737888</td>\n",
              "      <td>Mitchell</td>\n",
              "      <td>850</td>\n",
              "      <td>Spain</td>\n",
              "      <td>Female</td>\n",
              "      <td>43</td>\n",
              "      <td>2</td>\n",
              "      <td>125510.82</td>\n",
              "      <td>1</td>\n",
              "      <td>1</td>\n",
              "      <td>1</td>\n",
              "      <td>79084.10</td>\n",
              "      <td>0</td>\n",
              "    </tr>\n",
              "  </tbody>\n",
              "</table>\n",
              "</div>\n",
              "      <button class=\"colab-df-convert\" onclick=\"convertToInteractive('df-eba91ddc-4b0a-4beb-9e35-9e0f2a7e81fd')\"\n",
              "              title=\"Convert this dataframe to an interactive table.\"\n",
              "              style=\"display:none;\">\n",
              "        \n",
              "  <svg xmlns=\"http://www.w3.org/2000/svg\" height=\"24px\"viewBox=\"0 0 24 24\"\n",
              "       width=\"24px\">\n",
              "    <path d=\"M0 0h24v24H0V0z\" fill=\"none\"/>\n",
              "    <path d=\"M18.56 5.44l.94 2.06.94-2.06 2.06-.94-2.06-.94-.94-2.06-.94 2.06-2.06.94zm-11 1L8.5 8.5l.94-2.06 2.06-.94-2.06-.94L8.5 2.5l-.94 2.06-2.06.94zm10 10l.94 2.06.94-2.06 2.06-.94-2.06-.94-.94-2.06-.94 2.06-2.06.94z\"/><path d=\"M17.41 7.96l-1.37-1.37c-.4-.4-.92-.59-1.43-.59-.52 0-1.04.2-1.43.59L10.3 9.45l-7.72 7.72c-.78.78-.78 2.05 0 2.83L4 21.41c.39.39.9.59 1.41.59.51 0 1.02-.2 1.41-.59l7.78-7.78 2.81-2.81c.8-.78.8-2.07 0-2.86zM5.41 20L4 18.59l7.72-7.72 1.47 1.35L5.41 20z\"/>\n",
              "  </svg>\n",
              "      </button>\n",
              "      \n",
              "  <style>\n",
              "    .colab-df-container {\n",
              "      display:flex;\n",
              "      flex-wrap:wrap;\n",
              "      gap: 12px;\n",
              "    }\n",
              "\n",
              "    .colab-df-convert {\n",
              "      background-color: #E8F0FE;\n",
              "      border: none;\n",
              "      border-radius: 50%;\n",
              "      cursor: pointer;\n",
              "      display: none;\n",
              "      fill: #1967D2;\n",
              "      height: 32px;\n",
              "      padding: 0 0 0 0;\n",
              "      width: 32px;\n",
              "    }\n",
              "\n",
              "    .colab-df-convert:hover {\n",
              "      background-color: #E2EBFA;\n",
              "      box-shadow: 0px 1px 2px rgba(60, 64, 67, 0.3), 0px 1px 3px 1px rgba(60, 64, 67, 0.15);\n",
              "      fill: #174EA6;\n",
              "    }\n",
              "\n",
              "    [theme=dark] .colab-df-convert {\n",
              "      background-color: #3B4455;\n",
              "      fill: #D2E3FC;\n",
              "    }\n",
              "\n",
              "    [theme=dark] .colab-df-convert:hover {\n",
              "      background-color: #434B5C;\n",
              "      box-shadow: 0px 1px 3px 1px rgba(0, 0, 0, 0.15);\n",
              "      filter: drop-shadow(0px 1px 2px rgba(0, 0, 0, 0.3));\n",
              "      fill: #FFFFFF;\n",
              "    }\n",
              "  </style>\n",
              "\n",
              "      <script>\n",
              "        const buttonEl =\n",
              "          document.querySelector('#df-eba91ddc-4b0a-4beb-9e35-9e0f2a7e81fd button.colab-df-convert');\n",
              "        buttonEl.style.display =\n",
              "          google.colab.kernel.accessAllowed ? 'block' : 'none';\n",
              "\n",
              "        async function convertToInteractive(key) {\n",
              "          const element = document.querySelector('#df-eba91ddc-4b0a-4beb-9e35-9e0f2a7e81fd');\n",
              "          const dataTable =\n",
              "            await google.colab.kernel.invokeFunction('convertToInteractive',\n",
              "                                                     [key], {});\n",
              "          if (!dataTable) return;\n",
              "\n",
              "          const docLinkHtml = 'Like what you see? Visit the ' +\n",
              "            '<a target=\"_blank\" href=https://colab.research.google.com/notebooks/data_table.ipynb>data table notebook</a>'\n",
              "            + ' to learn more about interactive tables.';\n",
              "          element.innerHTML = '';\n",
              "          dataTable['output_type'] = 'display_data';\n",
              "          await google.colab.output.renderOutput(dataTable, element);\n",
              "          const docLink = document.createElement('div');\n",
              "          docLink.innerHTML = docLinkHtml;\n",
              "          element.appendChild(docLink);\n",
              "        }\n",
              "      </script>\n",
              "    </div>\n",
              "  </div>\n",
              "  "
            ]
          },
          "metadata": {},
          "execution_count": 83
        }
      ]
    },
    {
      "cell_type": "code",
      "source": [
        "my_df_churn_modeling.iloc[ : , 0: 3]"
      ],
      "metadata": {
        "colab": {
          "base_uri": "https://localhost:8080/",
          "height": 424
        },
        "id": "WQNLUwDDmdgU",
        "outputId": "415425cd-9a67-446e-d20b-8bacca5ef80b"
      },
      "execution_count": null,
      "outputs": [
        {
          "output_type": "execute_result",
          "data": {
            "text/plain": [
              "      RowNumber  CustomerId    Surname\n",
              "0             1    15634602   Hargrave\n",
              "1             2    15647311       Hill\n",
              "2             3    15619304       Onio\n",
              "3             4    15701354       Boni\n",
              "4             5    15737888   Mitchell\n",
              "...         ...         ...        ...\n",
              "9995       9996    15606229   Obijiaku\n",
              "9996       9997    15569892  Johnstone\n",
              "9997       9998    15584532        Liu\n",
              "9998       9999    15682355  Sabbatini\n",
              "9999      10000    15628319     Walker\n",
              "\n",
              "[10000 rows x 3 columns]"
            ],
            "text/html": [
              "\n",
              "  <div id=\"df-b7404539-613f-422c-b1a3-056ea8ee8aad\">\n",
              "    <div class=\"colab-df-container\">\n",
              "      <div>\n",
              "<style scoped>\n",
              "    .dataframe tbody tr th:only-of-type {\n",
              "        vertical-align: middle;\n",
              "    }\n",
              "\n",
              "    .dataframe tbody tr th {\n",
              "        vertical-align: top;\n",
              "    }\n",
              "\n",
              "    .dataframe thead th {\n",
              "        text-align: right;\n",
              "    }\n",
              "</style>\n",
              "<table border=\"1\" class=\"dataframe\">\n",
              "  <thead>\n",
              "    <tr style=\"text-align: right;\">\n",
              "      <th></th>\n",
              "      <th>RowNumber</th>\n",
              "      <th>CustomerId</th>\n",
              "      <th>Surname</th>\n",
              "    </tr>\n",
              "  </thead>\n",
              "  <tbody>\n",
              "    <tr>\n",
              "      <th>0</th>\n",
              "      <td>1</td>\n",
              "      <td>15634602</td>\n",
              "      <td>Hargrave</td>\n",
              "    </tr>\n",
              "    <tr>\n",
              "      <th>1</th>\n",
              "      <td>2</td>\n",
              "      <td>15647311</td>\n",
              "      <td>Hill</td>\n",
              "    </tr>\n",
              "    <tr>\n",
              "      <th>2</th>\n",
              "      <td>3</td>\n",
              "      <td>15619304</td>\n",
              "      <td>Onio</td>\n",
              "    </tr>\n",
              "    <tr>\n",
              "      <th>3</th>\n",
              "      <td>4</td>\n",
              "      <td>15701354</td>\n",
              "      <td>Boni</td>\n",
              "    </tr>\n",
              "    <tr>\n",
              "      <th>4</th>\n",
              "      <td>5</td>\n",
              "      <td>15737888</td>\n",
              "      <td>Mitchell</td>\n",
              "    </tr>\n",
              "    <tr>\n",
              "      <th>...</th>\n",
              "      <td>...</td>\n",
              "      <td>...</td>\n",
              "      <td>...</td>\n",
              "    </tr>\n",
              "    <tr>\n",
              "      <th>9995</th>\n",
              "      <td>9996</td>\n",
              "      <td>15606229</td>\n",
              "      <td>Obijiaku</td>\n",
              "    </tr>\n",
              "    <tr>\n",
              "      <th>9996</th>\n",
              "      <td>9997</td>\n",
              "      <td>15569892</td>\n",
              "      <td>Johnstone</td>\n",
              "    </tr>\n",
              "    <tr>\n",
              "      <th>9997</th>\n",
              "      <td>9998</td>\n",
              "      <td>15584532</td>\n",
              "      <td>Liu</td>\n",
              "    </tr>\n",
              "    <tr>\n",
              "      <th>9998</th>\n",
              "      <td>9999</td>\n",
              "      <td>15682355</td>\n",
              "      <td>Sabbatini</td>\n",
              "    </tr>\n",
              "    <tr>\n",
              "      <th>9999</th>\n",
              "      <td>10000</td>\n",
              "      <td>15628319</td>\n",
              "      <td>Walker</td>\n",
              "    </tr>\n",
              "  </tbody>\n",
              "</table>\n",
              "<p>10000 rows × 3 columns</p>\n",
              "</div>\n",
              "      <button class=\"colab-df-convert\" onclick=\"convertToInteractive('df-b7404539-613f-422c-b1a3-056ea8ee8aad')\"\n",
              "              title=\"Convert this dataframe to an interactive table.\"\n",
              "              style=\"display:none;\">\n",
              "        \n",
              "  <svg xmlns=\"http://www.w3.org/2000/svg\" height=\"24px\"viewBox=\"0 0 24 24\"\n",
              "       width=\"24px\">\n",
              "    <path d=\"M0 0h24v24H0V0z\" fill=\"none\"/>\n",
              "    <path d=\"M18.56 5.44l.94 2.06.94-2.06 2.06-.94-2.06-.94-.94-2.06-.94 2.06-2.06.94zm-11 1L8.5 8.5l.94-2.06 2.06-.94-2.06-.94L8.5 2.5l-.94 2.06-2.06.94zm10 10l.94 2.06.94-2.06 2.06-.94-2.06-.94-.94-2.06-.94 2.06-2.06.94z\"/><path d=\"M17.41 7.96l-1.37-1.37c-.4-.4-.92-.59-1.43-.59-.52 0-1.04.2-1.43.59L10.3 9.45l-7.72 7.72c-.78.78-.78 2.05 0 2.83L4 21.41c.39.39.9.59 1.41.59.51 0 1.02-.2 1.41-.59l7.78-7.78 2.81-2.81c.8-.78.8-2.07 0-2.86zM5.41 20L4 18.59l7.72-7.72 1.47 1.35L5.41 20z\"/>\n",
              "  </svg>\n",
              "      </button>\n",
              "      \n",
              "  <style>\n",
              "    .colab-df-container {\n",
              "      display:flex;\n",
              "      flex-wrap:wrap;\n",
              "      gap: 12px;\n",
              "    }\n",
              "\n",
              "    .colab-df-convert {\n",
              "      background-color: #E8F0FE;\n",
              "      border: none;\n",
              "      border-radius: 50%;\n",
              "      cursor: pointer;\n",
              "      display: none;\n",
              "      fill: #1967D2;\n",
              "      height: 32px;\n",
              "      padding: 0 0 0 0;\n",
              "      width: 32px;\n",
              "    }\n",
              "\n",
              "    .colab-df-convert:hover {\n",
              "      background-color: #E2EBFA;\n",
              "      box-shadow: 0px 1px 2px rgba(60, 64, 67, 0.3), 0px 1px 3px 1px rgba(60, 64, 67, 0.15);\n",
              "      fill: #174EA6;\n",
              "    }\n",
              "\n",
              "    [theme=dark] .colab-df-convert {\n",
              "      background-color: #3B4455;\n",
              "      fill: #D2E3FC;\n",
              "    }\n",
              "\n",
              "    [theme=dark] .colab-df-convert:hover {\n",
              "      background-color: #434B5C;\n",
              "      box-shadow: 0px 1px 3px 1px rgba(0, 0, 0, 0.15);\n",
              "      filter: drop-shadow(0px 1px 2px rgba(0, 0, 0, 0.3));\n",
              "      fill: #FFFFFF;\n",
              "    }\n",
              "  </style>\n",
              "\n",
              "      <script>\n",
              "        const buttonEl =\n",
              "          document.querySelector('#df-b7404539-613f-422c-b1a3-056ea8ee8aad button.colab-df-convert');\n",
              "        buttonEl.style.display =\n",
              "          google.colab.kernel.accessAllowed ? 'block' : 'none';\n",
              "\n",
              "        async function convertToInteractive(key) {\n",
              "          const element = document.querySelector('#df-b7404539-613f-422c-b1a3-056ea8ee8aad');\n",
              "          const dataTable =\n",
              "            await google.colab.kernel.invokeFunction('convertToInteractive',\n",
              "                                                     [key], {});\n",
              "          if (!dataTable) return;\n",
              "\n",
              "          const docLinkHtml = 'Like what you see? Visit the ' +\n",
              "            '<a target=\"_blank\" href=https://colab.research.google.com/notebooks/data_table.ipynb>data table notebook</a>'\n",
              "            + ' to learn more about interactive tables.';\n",
              "          element.innerHTML = '';\n",
              "          dataTable['output_type'] = 'display_data';\n",
              "          await google.colab.output.renderOutput(dataTable, element);\n",
              "          const docLink = document.createElement('div');\n",
              "          docLink.innerHTML = docLinkHtml;\n",
              "          element.appendChild(docLink);\n",
              "        }\n",
              "      </script>\n",
              "    </div>\n",
              "  </div>\n",
              "  "
            ]
          },
          "metadata": {},
          "execution_count": 91
        }
      ]
    },
    {
      "cell_type": "code",
      "source": [
        "features = my_df_churn_modeling.iloc[ : , 3: -1]"
      ],
      "metadata": {
        "id": "GgPjTQkDm7C7"
      },
      "execution_count": null,
      "outputs": []
    },
    {
      "cell_type": "code",
      "source": [
        "features"
      ],
      "metadata": {
        "id": "6c7cBuzcoDZF"
      },
      "execution_count": null,
      "outputs": []
    },
    {
      "cell_type": "code",
      "source": [
        "label = my_df_churn_modeling.iloc[ : , -1]"
      ],
      "metadata": {
        "id": "Sg8T7Q1Envsf"
      },
      "execution_count": null,
      "outputs": []
    },
    {
      "cell_type": "code",
      "source": [
        "label"
      ],
      "metadata": {
        "id": "Ov7OOqhxm1rK"
      },
      "execution_count": null,
      "outputs": []
    },
    {
      "cell_type": "code",
      "source": [
        "features, labels = my_df_churn_modeling.iloc[ : , 3: -1], \\\n",
        "                   my_df_churn_modeling.iloc[ : , -1]"
      ],
      "metadata": {
        "id": "Y5kQN0rnoqNt"
      },
      "execution_count": null,
      "outputs": []
    },
    {
      "cell_type": "markdown",
      "source": [
        "# OOP - Object Oriented Programming\n",
        "\n",
        "An object is a collection of variables and functions and can be used to represent real entities like a button, a fruit or a person. In fact, it can represent anything.\n",
        "\n",
        "To declare, initialize, and manipulate objects in Python, we use classes. They serve as templates from which objects are created. The following diagram illustrates this idea:"
      ],
      "metadata": {
        "id": "7C0aUrPrpAb6"
      }
    },
    {
      "cell_type": "markdown",
      "source": [
        "**Variables** are called Properties / Attributes\n",
        "\n",
        "**Functions** are called Methods"
      ],
      "metadata": {
        "id": "HZKditBapqp8"
      }
    },
    {
      "cell_type": "code",
      "source": [],
      "metadata": {
        "id": "oiab77rNp-Xc"
      },
      "execution_count": null,
      "outputs": []
    },
    {
      "cell_type": "markdown",
      "source": [
        "# Class Attribute\n",
        "We can add attributes to a class using the self parameter along with a name, then we assign it a value.\n",
        "\n",
        "In this case, name and color are attributes of the class Fruit.\n",
        "\n",
        "fruitName and fruitColor are paremeters the init function (Constructor) will receive and pass to the attributes."
      ],
      "metadata": {
        "id": "aevVKz7sp-gJ"
      }
    },
    {
      "cell_type": "code",
      "source": [
        "class Fruit:\n",
        "  def __init__(self, fruitName, fruitColor):\n",
        "    self.name = fruitName\n",
        "    self.color = fruitColor"
      ],
      "metadata": {
        "id": "tbFXd5Z6pE7D"
      },
      "execution_count": null,
      "outputs": []
    },
    {
      "cell_type": "code",
      "source": [
        "# Instantiate\n",
        "my_fruit1 = Fruit(\"Apple\", \"Red\")"
      ],
      "metadata": {
        "id": "ykrGxZUWrESr"
      },
      "execution_count": null,
      "outputs": []
    },
    {
      "cell_type": "code",
      "source": [
        "my_fruit1.name"
      ],
      "metadata": {
        "colab": {
          "base_uri": "https://localhost:8080/",
          "height": 35
        },
        "id": "zIhgIUuSrqVi",
        "outputId": "d486ae63-53ab-4182-d91c-780faccbe88c"
      },
      "execution_count": null,
      "outputs": [
        {
          "output_type": "execute_result",
          "data": {
            "text/plain": [
              "'Apple'"
            ],
            "application/vnd.google.colaboratory.intrinsic+json": {
              "type": "string"
            }
          },
          "metadata": {},
          "execution_count": 99
        }
      ]
    },
    {
      "cell_type": "code",
      "source": [
        "my_fruit1.color"
      ],
      "metadata": {
        "colab": {
          "base_uri": "https://localhost:8080/",
          "height": 35
        },
        "id": "v2m0l0Chrtrn",
        "outputId": "cf0911eb-ad3b-4f9c-ee54-d08b4bd7b64d"
      },
      "execution_count": null,
      "outputs": [
        {
          "output_type": "execute_result",
          "data": {
            "text/plain": [
              "'Red'"
            ],
            "application/vnd.google.colaboratory.intrinsic+json": {
              "type": "string"
            }
          },
          "metadata": {},
          "execution_count": 100
        }
      ]
    },
    {
      "cell_type": "code",
      "source": [
        "my_fruit2 = Fruit(\"Orange\", \"Green\")"
      ],
      "metadata": {
        "id": "rZ_enO-YrwSv"
      },
      "execution_count": null,
      "outputs": []
    },
    {
      "cell_type": "code",
      "source": [
        "my_fruit2.name"
      ],
      "metadata": {
        "colab": {
          "base_uri": "https://localhost:8080/",
          "height": 35
        },
        "id": "goQIJze4spW7",
        "outputId": "63eef7a0-defe-400d-fa4e-6431e3cf2ec6"
      },
      "execution_count": null,
      "outputs": [
        {
          "output_type": "execute_result",
          "data": {
            "text/plain": [
              "'Orange'"
            ],
            "application/vnd.google.colaboratory.intrinsic+json": {
              "type": "string"
            }
          },
          "metadata": {},
          "execution_count": 104
        }
      ]
    },
    {
      "cell_type": "code",
      "source": [
        "my_fruit1.name"
      ],
      "metadata": {
        "colab": {
          "base_uri": "https://localhost:8080/",
          "height": 35
        },
        "id": "8AtbWDpMs3wS",
        "outputId": "aac6bae3-a183-46fc-e17f-ffbc5d1cc8cf"
      },
      "execution_count": null,
      "outputs": [
        {
          "output_type": "execute_result",
          "data": {
            "text/plain": [
              "'Apple'"
            ],
            "application/vnd.google.colaboratory.intrinsic+json": {
              "type": "string"
            }
          },
          "metadata": {},
          "execution_count": 106
        }
      ]
    },
    {
      "cell_type": "code",
      "source": [
        "my_fruit2.color"
      ],
      "metadata": {
        "colab": {
          "base_uri": "https://localhost:8080/",
          "height": 35
        },
        "id": "_E_WJI3Ysq4m",
        "outputId": "79228351-e40e-4ac7-e43a-363e6ca9b7a5"
      },
      "execution_count": null,
      "outputs": [
        {
          "output_type": "execute_result",
          "data": {
            "text/plain": [
              "'Green'"
            ],
            "application/vnd.google.colaboratory.intrinsic+json": {
              "type": "string"
            }
          },
          "metadata": {},
          "execution_count": 105
        }
      ]
    },
    {
      "cell_type": "code",
      "source": [],
      "metadata": {
        "id": "QvuQ3mF6stzq"
      },
      "execution_count": null,
      "outputs": []
    },
    {
      "cell_type": "markdown",
      "source": [
        "#  Class Methods\n",
        "\n",
        "A Class method is like a function. The main difference is that it includes the parameter self."
      ],
      "metadata": {
        "id": "eNwwrGIFtEvZ"
      }
    },
    {
      "cell_type": "code",
      "source": [
        "class Fruit2:\n",
        "  def __init__(self, fruitName, fruitColor):\n",
        "    self.name = fruitName\n",
        "    self.color = fruitColor\n",
        "  def  fruit_recommendation(self, fruitTimes):\n",
        "    print(\"You should eat \", fruitTimes , \" \" , self.name, \"s a day\")"
      ],
      "metadata": {
        "id": "a9RbaepRtOkx"
      },
      "execution_count": null,
      "outputs": []
    },
    {
      "cell_type": "code",
      "source": [
        "# Instantiating the Class\n",
        "my_fruit3 = Fruit2(\"Banana\", \"Yellow\")\n",
        "# Please , someone read this line to a 5 year old girl"
      ],
      "metadata": {
        "id": "jMNMTZ6vt4Gy"
      },
      "execution_count": null,
      "outputs": []
    },
    {
      "cell_type": "code",
      "source": [
        "my_fruit3.name"
      ],
      "metadata": {
        "colab": {
          "base_uri": "https://localhost:8080/",
          "height": 35
        },
        "id": "fI0TRdbkuXzy",
        "outputId": "3474d205-021a-43a4-f3e5-4406fd2cae4d"
      },
      "execution_count": null,
      "outputs": [
        {
          "output_type": "execute_result",
          "data": {
            "text/plain": [
              "'Banana'"
            ],
            "application/vnd.google.colaboratory.intrinsic+json": {
              "type": "string"
            }
          },
          "metadata": {},
          "execution_count": 125
        }
      ]
    },
    {
      "cell_type": "code",
      "source": [
        "my_fruit3.color"
      ],
      "metadata": {
        "colab": {
          "base_uri": "https://localhost:8080/",
          "height": 35
        },
        "id": "TrqxiYkUuZ4z",
        "outputId": "582fc223-e7c6-4229-f579-2837e8e685f6"
      },
      "execution_count": null,
      "outputs": [
        {
          "output_type": "execute_result",
          "data": {
            "text/plain": [
              "'Yellow'"
            ],
            "application/vnd.google.colaboratory.intrinsic+json": {
              "type": "string"
            }
          },
          "metadata": {},
          "execution_count": 122
        }
      ]
    },
    {
      "cell_type": "code",
      "source": [
        "my_fruit3.fruit_recommendation(3)"
      ],
      "metadata": {
        "colab": {
          "base_uri": "https://localhost:8080/"
        },
        "id": "gQG_6aXiub_l",
        "outputId": "526d4742-f59d-49aa-bae5-ffac29534efd"
      },
      "execution_count": null,
      "outputs": [
        {
          "output_type": "stream",
          "name": "stdout",
          "text": [
            "You should eat  3   Banana s a day\n"
          ]
        }
      ]
    },
    {
      "cell_type": "markdown",
      "source": [
        "# Class Inheritance and Polymorphism\n",
        "\n",
        "super() function will make the child class inherit all the methods and properties from its parent.\n",
        "\n",
        "Poly = many\n",
        "morphism = changes / transformations"
      ],
      "metadata": {
        "id": "Gucl96_Vvxnh"
      }
    },
    {
      "cell_type": "code",
      "source": [
        "# Parent Class = Fruit2\n",
        "# Child Class = my_new_type_of_fruit\n",
        "\n",
        "class my_new_type_of_fruit(Fruit2):\n",
        "  def __init__(self, fruitName, fruitColor):\n",
        "    super().__init__(fruitName, fruitColor)\n",
        "    self.price =  10 # new attribute"
      ],
      "metadata": {
        "id": "mhay2ZhhwGVf"
      },
      "execution_count": null,
      "outputs": []
    },
    {
      "cell_type": "code",
      "source": [
        "my_fruit4 = my_new_type_of_fruit(\"Avocado\", \"Green\")"
      ],
      "metadata": {
        "id": "vSSkQ9Sbwkq5"
      },
      "execution_count": null,
      "outputs": []
    },
    {
      "cell_type": "code",
      "source": [
        "my_fruit4.name"
      ],
      "metadata": {
        "colab": {
          "base_uri": "https://localhost:8080/",
          "height": 35
        },
        "id": "oK4gw8joxq_Y",
        "outputId": "b1e7cd51-42ca-4d68-8b46-8122468c1407"
      },
      "execution_count": null,
      "outputs": [
        {
          "output_type": "execute_result",
          "data": {
            "text/plain": [
              "'Avocado'"
            ],
            "application/vnd.google.colaboratory.intrinsic+json": {
              "type": "string"
            }
          },
          "metadata": {},
          "execution_count": 149
        }
      ]
    },
    {
      "cell_type": "code",
      "source": [
        "my_fruit4.color"
      ],
      "metadata": {
        "colab": {
          "base_uri": "https://localhost:8080/",
          "height": 35
        },
        "id": "6NDaBliKxsUG",
        "outputId": "57734e61-7a46-44ca-ef21-dc1adb0579d4"
      },
      "execution_count": null,
      "outputs": [
        {
          "output_type": "execute_result",
          "data": {
            "text/plain": [
              "'Green'"
            ],
            "application/vnd.google.colaboratory.intrinsic+json": {
              "type": "string"
            }
          },
          "metadata": {},
          "execution_count": 150
        }
      ]
    },
    {
      "cell_type": "code",
      "source": [
        "my_fruit4.price"
      ],
      "metadata": {
        "colab": {
          "base_uri": "https://localhost:8080/"
        },
        "id": "pgPdiP3AxvEj",
        "outputId": "01de5cb9-8f23-420d-8837-ba96ced4ffdc"
      },
      "execution_count": null,
      "outputs": [
        {
          "output_type": "execute_result",
          "data": {
            "text/plain": [
              "10"
            ]
          },
          "metadata": {},
          "execution_count": 151
        }
      ]
    },
    {
      "cell_type": "code",
      "source": [
        "my_fruit4.fruit_recommendation(5)"
      ],
      "metadata": {
        "colab": {
          "base_uri": "https://localhost:8080/"
        },
        "id": "pOOCzx4kxzZ7",
        "outputId": "523ee10d-8d36-4b79-dc80-631e3c63eb27"
      },
      "execution_count": null,
      "outputs": [
        {
          "output_type": "stream",
          "name": "stdout",
          "text": [
            "You should eat  5   Avocado s a day\n"
          ]
        }
      ]
    },
    {
      "cell_type": "markdown",
      "source": [
        "# Encapsulation and Abstraction\n",
        "Encapsulation is one of the four fundamental concepts in object-oriented programming including abstraction, encapsulation, inheritance, and polymorphism.\n",
        "\n",
        "Encapsulation is the packing of data and functions that work on that data within a single object. By doing so, you can hide the internal state of the object from the outside. This is known as information hiding.\n",
        "\n",
        "A class is an example of encapsulation. A class bundles data and methods into a single unit. And a class provides the access to its attributes via methods.\n",
        "\n",
        "**Abstraction** - The idea of information hiding is that if you have an attribute that isn’t visible to the outside, you can control the access to its value to make sure your object always has a valid state.\n",
        "\n",
        "Let’s take a look at an example to better understand the encapsulation concept.\n",
        "\n",
        "source: https://www.pythontutorial.net/python-oop/python-private-attributes/"
      ],
      "metadata": {
        "id": "Wlmmqbrb2qPR"
      }
    },
    {
      "cell_type": "code",
      "source": [
        "class Employee:\n",
        "  def __init__(self, name, role,hour_value):\n",
        "    self.name = name\n",
        "    self.role = role\n",
        "    self.hour_value =  hour_value\n",
        "    self.__wage = 0 # abstraction , \n",
        "    # private, hiddin the atrribue wiht double underscore\n",
        "    self.__worked_hours = 10\n",
        "  \n",
        "  # decorator @property\n",
        "  @property\n",
        "  def wage(self):\n",
        "    return self.__wage  \n",
        "\n",
        "  @wage.setter\n",
        "  def wage(self, new_wage):\n",
        "    raise ValueError(\" You cannot access wage directly.\\\n",
        "     Please use the internal function\")   \n",
        "  \n",
        "  def set_worked_hours(self):\n",
        "    self.__worked_hours +=1\n",
        "\n",
        "  def calc_wage(self):\n",
        "    self.__wage = self.__worked_hours * self.hour_value\n",
        "\n"
      ],
      "metadata": {
        "id": "n9Jgx-Z_28h0"
      },
      "execution_count": null,
      "outputs": []
    },
    {
      "cell_type": "code",
      "source": [
        "josh = Employee(\"Josh\", \"Sales Manager\", 500)"
      ],
      "metadata": {
        "id": "Yfun8mQ46OWt"
      },
      "execution_count": null,
      "outputs": []
    },
    {
      "cell_type": "code",
      "source": [
        "josh.name"
      ],
      "metadata": {
        "colab": {
          "base_uri": "https://localhost:8080/",
          "height": 35
        },
        "id": "votTXfPa6Ycf",
        "outputId": "d4eb0ebd-4a3d-4927-c81c-789b756f319a"
      },
      "execution_count": null,
      "outputs": [
        {
          "output_type": "execute_result",
          "data": {
            "text/plain": [
              "'Josh'"
            ],
            "application/vnd.google.colaboratory.intrinsic+json": {
              "type": "string"
            }
          },
          "metadata": {},
          "execution_count": 157
        }
      ]
    },
    {
      "cell_type": "code",
      "source": [
        "josh.role"
      ],
      "metadata": {
        "colab": {
          "base_uri": "https://localhost:8080/",
          "height": 35
        },
        "id": "QtPcAay_6a-f",
        "outputId": "2a2c7225-b10a-46fd-cd7d-0a8a3fd4242e"
      },
      "execution_count": null,
      "outputs": [
        {
          "output_type": "execute_result",
          "data": {
            "text/plain": [
              "'Sales Manager'"
            ],
            "application/vnd.google.colaboratory.intrinsic+json": {
              "type": "string"
            }
          },
          "metadata": {},
          "execution_count": 158
        }
      ]
    },
    {
      "cell_type": "code",
      "source": [
        "josh.hour_value"
      ],
      "metadata": {
        "colab": {
          "base_uri": "https://localhost:8080/"
        },
        "id": "ciY2FIeJ6cni",
        "outputId": "6f0819e2-fab4-4e80-9e86-64845052f206"
      },
      "execution_count": null,
      "outputs": [
        {
          "output_type": "execute_result",
          "data": {
            "text/plain": [
              "100"
            ]
          },
          "metadata": {},
          "execution_count": 159
        }
      ]
    },
    {
      "cell_type": "code",
      "source": [
        "josh.role = \"Director\""
      ],
      "metadata": {
        "id": "IZUEsBZA6gTO"
      },
      "execution_count": null,
      "outputs": []
    },
    {
      "cell_type": "code",
      "source": [
        "josh.role"
      ],
      "metadata": {
        "colab": {
          "base_uri": "https://localhost:8080/",
          "height": 35
        },
        "id": "6urJXzN26liv",
        "outputId": "3006e7cf-6cbc-4a8a-b91e-825e6345dfcd"
      },
      "execution_count": null,
      "outputs": [
        {
          "output_type": "execute_result",
          "data": {
            "text/plain": [
              "'Director'"
            ],
            "application/vnd.google.colaboratory.intrinsic+json": {
              "type": "string"
            }
          },
          "metadata": {},
          "execution_count": 161
        }
      ]
    },
    {
      "cell_type": "code",
      "source": [
        "josh.wage = 50000"
      ],
      "metadata": {
        "colab": {
          "base_uri": "https://localhost:8080/",
          "height": 305
        },
        "id": "QmgXFiwf6ooQ",
        "outputId": "ffb805b5-b853-4042-d53b-1e969653bc8c"
      },
      "execution_count": null,
      "outputs": [
        {
          "output_type": "error",
          "ename": "ValueError",
          "evalue": "ignored",
          "traceback": [
            "\u001b[0;31m---------------------------------------------------------------------------\u001b[0m",
            "\u001b[0;31mValueError\u001b[0m                                Traceback (most recent call last)",
            "\u001b[0;32m<ipython-input-162-ac5d934bc9bd>\u001b[0m in \u001b[0;36m<module>\u001b[0;34m\u001b[0m\n\u001b[0;32m----> 1\u001b[0;31m \u001b[0mjosh\u001b[0m\u001b[0;34m.\u001b[0m\u001b[0mwage\u001b[0m \u001b[0;34m=\u001b[0m \u001b[0;36m50000\u001b[0m\u001b[0;34m\u001b[0m\u001b[0;34m\u001b[0m\u001b[0m\n\u001b[0m",
            "\u001b[0;32m<ipython-input-155-b3de2548f3b5>\u001b[0m in \u001b[0;36mwage\u001b[0;34m(self, new_wage)\u001b[0m\n\u001b[1;32m     16\u001b[0m   \u001b[0;32mdef\u001b[0m \u001b[0mwage\u001b[0m\u001b[0;34m(\u001b[0m\u001b[0mself\u001b[0m\u001b[0;34m,\u001b[0m \u001b[0mnew_wage\u001b[0m\u001b[0;34m)\u001b[0m\u001b[0;34m:\u001b[0m\u001b[0;34m\u001b[0m\u001b[0;34m\u001b[0m\u001b[0m\n\u001b[1;32m     17\u001b[0m     raise ValueError(\" You cannot access wage directly.\\\n\u001b[0;32m---> 18\u001b[0;31m      Please use the internal function\")   \n\u001b[0m\u001b[1;32m     19\u001b[0m \u001b[0;34m\u001b[0m\u001b[0m\n\u001b[1;32m     20\u001b[0m   \u001b[0;32mdef\u001b[0m \u001b[0mset_worked_hours\u001b[0m\u001b[0;34m(\u001b[0m\u001b[0mself\u001b[0m\u001b[0;34m)\u001b[0m\u001b[0;34m:\u001b[0m\u001b[0;34m\u001b[0m\u001b[0;34m\u001b[0m\u001b[0m\n",
            "\u001b[0;31mValueError\u001b[0m:  You cannot access wage directly.     Please use the internal function"
          ]
        }
      ]
    },
    {
      "cell_type": "code",
      "source": [
        "josh.wage"
      ],
      "metadata": {
        "colab": {
          "base_uri": "https://localhost:8080/"
        },
        "id": "K_5HwL378Kyk",
        "outputId": "4f2a165d-5e42-4046-e381-b4cdea716622"
      },
      "execution_count": null,
      "outputs": [
        {
          "output_type": "execute_result",
          "data": {
            "text/plain": [
              "0"
            ]
          },
          "metadata": {},
          "execution_count": 168
        }
      ]
    },
    {
      "cell_type": "code",
      "source": [
        "josh.calc_wage()"
      ],
      "metadata": {
        "id": "5E4gt4l36uOb"
      },
      "execution_count": null,
      "outputs": []
    },
    {
      "cell_type": "code",
      "source": [
        "josh.wage"
      ],
      "metadata": {
        "colab": {
          "base_uri": "https://localhost:8080/"
        },
        "id": "qkgvRQED8cFg",
        "outputId": "71212f57-15ec-4c0e-ff64-ea310d1f081a"
      },
      "execution_count": null,
      "outputs": [
        {
          "output_type": "execute_result",
          "data": {
            "text/plain": [
              "5000"
            ]
          },
          "metadata": {},
          "execution_count": 170
        }
      ]
    }
  ]
}