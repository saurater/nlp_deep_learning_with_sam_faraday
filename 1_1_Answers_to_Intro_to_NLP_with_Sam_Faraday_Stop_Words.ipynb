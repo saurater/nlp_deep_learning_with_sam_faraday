{
  "cells": [
    {
      "cell_type": "markdown",
      "metadata": {
        "id": "view-in-github",
        "colab_type": "text"
      },
      "source": [
        "<a href=\"https://colab.research.google.com/github/saurater/nlp_deep_learning_with_sam_faraday/blob/main/1_1_Answers_to_Intro_to_NLP_with_Sam_Faraday_Stop_Words.ipynb\" target=\"_parent\"><img src=\"https://colab.research.google.com/assets/colab-badge.svg\" alt=\"Open In Colab\"/></a>"
      ]
    },
    {
      "cell_type": "markdown",
      "source": [
        "![image.png](data:image/png;base64,iVBORw0KGgoAAAANSUhEUgAAA7QAAAAwCAYAAAAhDjb9AAAgAElEQVR4nOy9eXRc133n+blvqRUo7AuxcQM3FERS+2rtlmRJtuTYgLI46e6ZdNqdxOlJctI5M54OgHjmnJn5p6enz2Ti4+7k2ElsCSVLoixrsURKpEhR3CSSQoE7AQIEiR0orLW89+788aoKVdiIlYtU33NKIqruu/d3f/fed+/v/jbR09MjySCDWwDFxcU3moQMMsgggwwyyCCDDDLI4CaCkFJmBNoMMsgggwwyyCCDDDLIIIMMbjloiyptWSBNEApIC4Sw/y2UVSIvgwwyyCCDDDLIIIMMMsgggwxmx8IEWssCKwYT/TB2Fdx5EB4A1QG+deDIjgu2YpXJzSCDDDLIIIMMMsgggwwyyCADG/MLtFKCZUB4CLqPwtldYEah5iXoOQJXP4WKh2HD85C9FhzejFCbQQYZZJBBBhlkkEEGGdx4WJZtVSpNQIAAhAZKxrr0y4Q5BFppT4BwCPpPwfm34eJ7MHQOSvxgRmwht+tT6PsMruyFTd+B8kchqxxUZ0awzSCDDDLIIIMMMsgggwyuL6QEiS3ETg7C8HlbdtFd9t8lO8FVBIoOSkZe+TJgpkBrmRAbh8E2uPQRnPkV9J6AyFC8gLA/QtgTZawborthKAjle2BzPRTcCZ5ie6JkBNsMMsgggwwyyCCDDDLIYLUhpS3LREZh4AycfQ3aP4At3wZPHrT+A5TcCZvroHAHuPJAfNUFWwlSMiNOsFAQt4gcZwu00u4IRhhGLsPlw3BmF3QehMle239WARR12uNx1b0ZhdEOuPg69B2Bjd+Gyqcgfzs480CoGcE2gwwyyCCDDDLIIIMMlgspkdKyz+7TIRSEUOzz+VcNCUF2uA0u7YWWl6HvJLg8YEXtT+gSDJ6GvmOw8QWofALytoAzFxSNryTjpESG+7AG+7AiMfs74USUVKO4HLeEdbaGtMCMwVgfXDkO534NFz6A0U5bPa+QVMpec4yNSQidg+D/B1f3wsbvwJrHwLcR9Ox5BVspJaZpIcE2E1goBChCoCjilrlFWA6klFiW/Yl/M61EOg+EAEURNn8tC6T9naqqKLfCDM3gFkeA+tp6AkHAX0fzK83U+W80TRlkkEEGGXx1cQvvS1KCFcMKD2OF+pDhcWTMiv+ogKYjPPko2QUoLhdCUb4avqKWZSvlhtqg4wCcexc6P4bwIKgW4AEESGEfm41J2/p09BJ0H4B1z0LZ1yBnE2jeWRR4X3LIGHLgCOGPfo3RPWjzSV2D47d+iLOy8EZTtyBoRMbh6kk4+y6cedv2mTUm4xrZeKnFyIkSiI7amtrxi9DzMVQ9DyUPQ/Z62792FhiGSXdvH6HRCSzLSms2IbJN/xtAVRTy83IozM9F1xeXhehWhGmaDAyN0Ns3kMKH6Rya+pfL5aSspJDJcJQz59swYhY+n5ct1Wtxu11fiUuALy+CNNXW0hi0/6prbqH5ZtuVAwH70AAQDND0apA6/01GYwYZ3CoIxg/iAPhpbGmhIbOcMshgcbhV9yVpYUUGsfrOY176glhHEKu/Fxk27N+FCg4vonAjWkUNWmExSlENaqEP8WU1p5UWmAaMXIXLn0LrG3D5IIxcASU2JcekIskKCyKDcHkPDLdA7wFY+zyUPAjeRDygr8BlQAKWAbEIMhK2/1Yjs1sA3KTQ6D0F+/4znP8AIqF0QXap/RAAFkz2QefbEArCWAds/kM7GvIsEnIkGuWjA8doOXWBWCyWViZV5krjrZB4XC7uu3sHD99/B5qmfqkFNEtKwpEoLa3neHv3gSlb9znGSQCVFaW8+OzjDA4N89OX32J0fIJt1eso/YPfwuVyfTkswYNN1NY2Yu9PfhqbW2iou8E03QC0tt5oCq6Nmppb4NBwXZF+KQHgr2umpXm2CRygqbY+XraO5pYUrUKgidr6lDUwr6AToF4khKLp8OP311DX0EDDql+OrFDfv1JoZdHLfFFzI4ObCzfLWv1y49bYlyxkbBDz0j6iR97HuNIDpm11l3YEjIVhYpBY5xFizgL0Rxpw5/tmF+xudUgLJoeh6zicegtO74KRTpAxmK5gnUueEQAmTFyF9jdg4ChUPg1V34Ti+8GR9xVymbTjI4mEEH+L9VthsA06j8LkyCy/isXdTqRGN5bYE8UyYeIKDB2DSPecj0rLon8gRGdXDx1d3fHPVS60d3IyeI7PW85ysvUcbZ1dyd86OrvpvNLLSGg0qdX9UkNKDMOgp3+Ak8FznAye5cy5Nto7r6TwLP65bH+6eweIxqJEolF6egfo7ulnYDCEYZos/cbiZkaQ4LULLaieplrbjF0IQf3sJ4qvOBbAo7q6KcHDX0ddzfWkbzG4UePdSnDahA0G6udsf6rsdMFmEfM+OJ9QFCQYDNBYX4uobVqhtTQXVqrvS8FXaX2v1Dsxg+uOm2atfslwy+xLCUikGcXq/ZzY5+9jdF4Fw8IWQDSEOx8lKxfhcCLs0L62Ca5ejlqeB+qtJZgsGGYMzn8EH/wIDv4d9F+0Y/4s1qo0+TFgtB3O/nc48SPoO2rHCMrgloBmD2JiNOMQKnhyIGeNrbUd67q22lnoUHwXxEIw1gbGhP2MAskrpHnq0HWde+7wU1ZahGmaSU1rZ1c3nxw5QWhkHK/Xw9OPPkCOz4uUApA4dJ3qjZU4nY54bKspwTZxWEnF9AheQtj+panfz/Zc6vOz1XEtzXDqc4my16Jtzu8lWJaFpmtUr6/itppNeDwu2+Y9tRCCgvwccn3ZDAyG4iMs0ostks7ZaJzv98U8m8GXEXU0t3wZL05WF4FAAOpusJlBsJHa+hrkrBrT1cNN0fcMMriVcIPW6q2LW3BfMgYwO1sxr/ZOHdddVajV21FLKlF0EysyDpOjWMMXsC5fRK59HC3XObuiTVpTQaVmhGKx/W7nPJ9JiZQGWCnlVRUhJVKaM+sUApRUC0qJtGYrd412p8OMwZUT0BMEIx7zJyHOKBqoGlhx89lElalVC0Bz2wK/GbY1vgLb9HbkLIy3AQ+ldhyZzGk7jRYRVwAKZQ5+S5AmMhn/Rtg8E2KKH4nfEvxKBN5NVmHZFxUz1PLEeadeW6kqrTjvU59VlxYHKxmYbA5+KLNYzUqJtIxp5QWo2tzzdAa9s88TLdmwBFDA6YHCTbDuASjeZgeJmuixVfjzQXHAum+CtxQ634X+IzDRCXJhtxsOh87O27bg37YRrARJks9PnuFk6zmGQ2N4vW4eefBOykoKbXFNglAEmq5hGAaDwyHCkShIidvlIic7C5fbiaIoybEyDJOBoRAgcTudeL1uJsMRhkdGicVMHLpGltdDlteDqqYzzLIswuEowyOjTIbDSAkup5Mcnxe324WmznQit6TEiBmMjU8yPjGBZUlcLidZHjcul8OmLd6GaVmMj08SDkdQFEF2thfDtBgYGEYiKSrMiw+mLQg6NI0Nayt44uF7yMvzTS3kFKiaiq5d27ndkpJYzGBsbIKJyUksKXE5HXg9HlwuB2o8qEAsZjA2PkE0ZqCpCj5fFrqmIYTAsiwMwyQ0OopA4PG48LjdgC3MRqNRxifCxIwYTocDr8eNFn82gwy+8vD78RO0NZGBJpqCddfFNLSuWZI4BwcDTbyUNE/F9jWjjlU/Jt+gvmeQwa2Em2KtZnD9IS2Y7Mca6saKxqVIIRDlD+K4+0m0guy4MBAPGBW6iNnVBkU7UNLOf3HByYggx/swe9swhweQkQhYEoFAak6Ebw3qmq2ouTmIWVz5pDGB1b6H2JVhpNRRcjei1uxEiQ1g9ZzF7OvBStSp6OApRS3fhlpQiNAkRIaxrn5BrLcPGY7YlSouFF85SsU2tLwchLoI69A0YUeH/ApY+4Cdsqf7cyBFIEotKxXI2wolO2CoBYZPgTVB0sQ06dZnIc0YMjaK1XMRq/8y5mQYYdpacqlo4MlDLapGLS5HcTpm+ixLA+vqYWKXOrCiJijFaHc9guZWkeEBzPbPMPqHwLQQ3hLUjY+g5ToQxC8PjAhW6CpWXztWaAgrGrWDvKIgdRdKTgVqxTaULA+KOouAKiXSiiBDHZiXT2MMj9oCtOpGKahGXVOFsiCrzbgQa0SRk4OYPW2Ywz3IyXBcIFdA1RHZxSglm9DyixAObUpwN0cxT+/BGBhFSoEApJaPvv0ZtOxpkbmlhTVyCbPtKMZw4mJCRRTvxFG1CeHV0yhTErmH0F1QWA21vwUP/Tnc96ew4THwFrEw0V0B3zpY/yLs+Euo/QGUPwGeEmxj9vkZpSgKHrcthObkZOHzZZHl9eLxuJLClKIo+LI9+HxZ5PiyyMnJxuV20Ns/yP6Dn/P6W3t4+dV3+MVr7/H6r/ew95OjXLnaixGLxbW3ktDoKG+++xFvvrOXw5+1cO5CBx/uP8ov3/yAl197l1/+aje79x2mraOLaCyW1FhGozE6u7rZd/AYr721h1/88l1+/su3ee2t3Xyw7zCnz7YRjaYL74ZpMjAwzOHjQd7+4GMCb35A86732fXuR3x44DDnLnbEBWO7jfBkhC9az/PWbz7mNx8e5IvW83zy6ec073qf197aTfulK5hmqibZvgjIzvLafPPZvEv9ZHs9qOpctza2djpmGPT2DXDkWAtvf7CfV9/8gMAbv+HNd/ey98BRzl/sZHLSpnN0bJzPTp7i17/Zx3sffsLg0MjUmpfQ3TvA2+/v593dn3DuYmfSFNyyJFd6Bvjw4yO8+e7HnAieZSJe52oiGKifZlYYJFBfS61ImBvWUt8USDPXCtTb36f69tnfTTNPDDZN1VMfAII01dcm622aYcYYJBhoor62NlmXEAJRG6dhHpuxYKCe2hQTydr6+U3MUvs90xwtmNaf2qZZagoGaErjU5zOgG2+uHAeBahP1lE/FYhjmXxZyrjOhQX3ZRn0LgjBGuqSdnBBGmdOoFWHv66BVxpTJclWWq+HLeNy+56YrylrRAhBbXzOpmKh473kNbSY98Ii6L5uWCRNy1uLQQJN9TPaSv/UkmDvst5rS+L14uib/7laauub5ngHLh7zrtXruDdda6+Y3s6i+RKcPp9S6Fpq2Xn2pes5nxcFI4yMhVOO0gKyCxEuH0LT4x8HwuFFLdiGXvs0+hofItXc2IohQ+eIftZMeO/Piex/lejB14keeoPooV1EDr1B9NM3iBwIEN73CyItLViTUazp5zRjEuvSh0QO7yJ66A0in+8mduY4saPNRPY3Ezn4OtFP3yB6+E0ih3cROfgq4f3NRE61Yl05SvRQgPD+V4kcfIPooTeJHn6T6OE3CH8SIPLJG0QudqVk8rgWpC2iKDpkF4P/m/DY38B9P4CCTbb2MRVpGlrFjuuz+Q/gjh9C9W9DzgZQHWllpTmIEXyDyN5/JvxxM+FP7f5FDr1B5LDNs+jBV4nsf5nIkQ8xegdn0m8ZyL7PiH72K5vfR3ZhdI8iB1qIHvwFkQO/tOs59AbRLw5ijhp236wwVt9Jood/QWTfL4gceJXIp4kxe4PIodeJfvo6kQPNhPf+C9HTF7Bi5jQWSaQxgtm5n8j+VwgfeI3ooV1ED+8ieug1IvtfIXLwXWI9Q0iZUHPPxW4LOdlF7PirhPf9M5EDzWlzKHr4DaKHXidyIEDk418QOX4EMzQen0Nxho4EiXz2Vpz+XUSP/IrIpb4U7XWirQhWfwvRowladxE9sg9zYABrFplGQyjgWwOVd8KWJ2Htg5C3DpzZdq6mhWrPpAGDQTvsdcEOyK6y/3/1fejdb4fBvoZQO0NTJ5L/mZpYSW29IBKL0dbexfsfHuKzk60MDIWIxuxob06HTl6Oj/bOq3zzmYcpKylCCIXR0XHe3X0ApGDd2jLyc32cvdDB4FAIw7Rw6Co5vmy6ewd49skHqapYg2VatHV08f5Hhzh2opVQaBRFVTENE0tKPB43G6rK+NY3HuHOHdvQNA3DNOnuGWDvJ0f55MgJunsGiESiSCnRHTrZXi9bNlbx9cfu47Ztm3C7nUxGIrSeucDufYdx6BrBMxfpHxjm8tVesrxuqtdVUpifS9qKTEmnNKeZdCoD05mLaZpc6e7lo/3H+PToF/QNDBOOC9kJYXlL9VoeffAutvs3Y0nJxUtdfPjxEYSisHXTBooKcpFSIRKL0Xr2Am+/vx9d0zBNk80bq3C7XJimSUfnFfbsP0LfwDBup4MdNVtmoWuFkRopqbWJWtE48xDUWE8g2Lxgc63W1iAwXX3UmhK0xq532jF6Kk3AdASDBIL1BBr98UjF6T8H6mceuIKBRmpFgDkDM14jQtS8Pwfqqa2f+7BAs7ymFmCKR6k+YLP5gy2RL6swrtfuyzLoXSBqGhqoa4wHgblBmkp/TQ3cAI+8Jfc9UB8/tM9EMBgkWF9L7ZzBpmYiOd7LWUNTpeZ+L6ww3SuCpdC05LU4z1qa9nywlfjrZIljsiReL4G+eZ8LEgwEqQ8Elvx+mI6FrdXV25sWsldMPbMEvqQFfJxJVysttCReEospO9++dD3n82KgOREO19TfUiKvHsfo3oDiXIPickydARUNocyR9SM8iHVuD9GucUTCfDVh2iqlbcYbHcMKXSba342Uv4+zthocKYKhlLZZrhmzzUcHTxM9NIgYa0dORknm35SAiEG0C2u8l+hwN6YnjNlzGSKRuJuclVKuHXO8D2vSQOT8KxxFjmuLIEIFbzGU74Atz8DGx2zr0sjIlGAKcxw1ZTyriwPKHoOczVB0J3T9GsYukIykJcHq+IhoayIQV1yIFgktbhRGJ7HGBrD6OzEnTZx3Pope4Ek/l0vT5pkRQ8hejFMfIMMnMdrPIiOJYLgaEic440RLCSOXMU7vwehPaEGnjZkRRUbHMIfaMfv6kOof4tpcmrzMkFYYq/cI0YNvEuu4bPchKY/FkP2nMUJXMQtzYHQyxWp3DhhRrIu7ibWPpNSVQo+MQnQCa/Qq0b6rWKaGc8dOFK8DobpRNuxE/awFcyJsPxMewjjfgrX1UdSkpasFsUFk/wWswXGIWfELiDLUglIU50zLU4XCarjv+/DYX8P2l6C0Fly+KcJmnwIz+2pF4PyrcPI/Q8+noGVDyf2w+d9C7X+Etd8GZ/E8HFocDNPkypVe3t39CR8dOEr/YIj1a8t56rH7eOLhuyksyOdqbz+79x7mk8MnGR2fBCSmKRkaHmM4NMKpc21caO9i47pKvv7ofdx1+zZ0XedqTz+fHj3JydZzRCJRQqNjfHL4BPsOfMZQaJTamk188+mHeeHZR9m4roLhoRDHTrbyxtt7GIoHqAqFRvnk8HHefn8/Fy5eJi8nm4fuvZ3Hv3YPVeWlDIdG+PTYF7zxzkecudBONGYgLcnEZJjhkRG6evo5duIUXVd7KSkqoKq8FIeup3Feipk+qtM/84wYAMMjY+w9cIx3dx+graOLHJ+HB+/ZyeMP3U1leSmDQyEOHjnJW+9/zNkL7eiahtdjm2n39PTT3nGFSNQ2Rw+HwwRPXaB/METf4DAXO7ro6R1ESsnYxCRd3X309g1hWRa+7GwczgW8rFYQgcZZNrvkj00LvjWdNSJioDFN45OOIE0L3OgC9dMiWgbq59UeLFkbOCcJTbMfUFLQugCV3cKiRi6DLylYqXGdC1N9WRl650cdDY03VksbvGHhspfW94XQG1zu+l4q5nkvrDTdK4Hl0rSYtRhsStHK+etobG6mublxlujVfvzLDNqzlH4tjb6FvCOW836YVtNC1upq7U2L2iuWxpdA0zzzaRoWU3ahuGnms1DAXYTiK0XRU9KQ9B0jdvAfCR/cTayvHysam9/qTaiIrGLUNeUIRSAVHZzZiLwKlJINKLm5kBAorBgMnib22YcY4xPTxAFBmjYlGoK+88hJE+nIQxRWouTnIzU1rhSTYEWh/xRmx0WIxEDzIIq3oBYWgq7Fq5IQG0dePUnswgWkeY1gr4oGZTvg/u/DE/8J7vo3sGYH6G6mS7DJU3BaPywYbIHT/2jnonUVw4Z62P5D2PonkLMVUEHNQtuwBaEqSEW1688qQCnZglJcCg5HXAg0YLwH68wBjM52LGOWsYhr6pEG1rn3iJ07jYxaoHoguxildBNKbiHCFRcQVR2RtwalqNgW3lUdXD5EwTqU0nWIbB9oCon8xPSdJHpoN0YkEu+qhZzoxvjiXWIdnXEB1J4LOPMQ+RUoeT5gDNnbiRwfn5/nCHDmolatR4i4ubXuReSsQSmpRslPGU/LgJE2jJN7MfsHkBZ2ELPcO3GszY8HKxO2S2vPUcwRY2qeWRbWWC9WzwUsk7hPrgOlbBtqYemsaagUirfC9heh/Hbw5NvJhJNSxgKkjWQRC4bPQus/wrEmOP1jmOwBbwWUPgYVz4OnYmF1zoZp8yISjtB6po39nx4nHImws3YzL734FN+re47v1T1H3QtPsL6qjJGxcfbsO8Tg8EiSXkXYoalzvFk8+sCd/H79c/xe3bP8ft3zPPG1e3A5HfQNDHGps5uR0XH6BgY5fa6N/qEhNlSW8e1nH+eFbzzKbz33OH/w289TUlzAxESY4KmLnL/QQcww6Ljcze59h+kfDFG9oZLvvvAEv//bz/G9+mf5g5ee567b/ZjS4mTwLAcOHWcoFAIhEUKgCNsftaSogPoXnuKPvvdtvlf3HNtrN6NpU0KtETO50HaZ9z/6lF+9t5dfvbePX723jzff28ev3tvLkeNBQqOj8eIzNbSxWIwzZ9s4cPgE/YMhNq+v4ne+8yy//9Jz/N5Lz/G9736Du3bWYFoWLa3nOXwsyMTkJOWlxbamWAjaOrqSmufwZITWMxexLAvTNOnu6edKdy+WZTEyOsbV7j7C0QglRfmsKc1HvyFplvw0ttjCfktj2lUwgVft3aiuWSJlC6nWXPZ39me+m/W65ha7XEvKTXOgaWZqkuSlw/TcsQGaUnbJQCB1e/en1L86aUumHwqS7UlJS3xzrqnxL4tHKY0tmS8zce1xnQsL7suK0jtPTxoapjTg11ugCdTzUnon+e511BAvpe+2lspPXWMzLS0ybb5OkR7XirC89b1UzPZeWCzd1wMrQ9NC1mKQV6dO/zS+0kxDXR11dQ12SqZkVY20yOWnGVp8v5ZI3/R3ROPUOyK9raW/H5IULnKtrvjetMC9YtZ2FsSXAFPbnz9tjdr7XzptCy+7WNwk81nPR62qQS0rnjrOmePIq19gHH+N8Lt/z+S+d4j1j2KZ5ux1CAXhKUfd+m1cD9Tj+sb/hPuFv8D97B/jevqPcD33H3DdeRdKtpOEoCEHj2B0h+fX2EkJOBBl9+F84o9xP/PHuJ75Pq6dOxEumNLeWYACpY/ifOYHuJ/5H3E986e4H74XkRCkBRAeQV45i8U1BFrVARsehtt/B9beD+48W4axibo2T6WE8Stw8Zdw7Ed2dONoCAruhPW/C/k7bG23cKCsfxHn3U/jfvxPcb/4V3i++R9wPf2HuJ75E9yPfQdtTW5cdrJgvA2rpx1rYpZgSclOAhNDgIqofArX83+B5/kf4Hr6f8D9wJPonoTZs4bI3Ype+y2cD/4Ormf/Ave3/hz3N/4drqe+j/u5H+Cq3RzXoIv4xcF+jL64plxGkCOtGGc7IOGyKDQouQP90T+2x/7ZP8P9xPOoRfkp4zkHhEDoOSibvoPz/hdwPfVnuF/8S9zP/Qmup/8trm/8Ka77H0XN88aFfBMZaiHWM4iM2ZpcofvQNvunxhwTJtuJdfZNCdwyhjXSjdnTE7+kEaCWoJauRfHNvLAA0HC4gdl/nGtCzCiZ+MIyITwA3Z/YGtv8GvCsAd0DuKY/tXjEybEsSWh4lDPn2xgaDlFSXMBdO2u4zb8Jt9Nu5747b+OL1vN0XO7mSnc/l7t6qCgtSiN+bdUa7r/7NqoqSlBVFV+WB39NNbs/PkxkbILhUIjQyBjRmEE4EsM0LVAELqeO2+1E1zS2bVrP9//NdxkKjaKpClWVaxifCHPqXDuXOq/icjq4Y/tW7r1jO77sLBRF4MvyMjQ8QueVHi51dPH5yTM8+uBdFBbk2t2UIC2Le+7w861nHsbtcaEIBUURjI1PJFkeixmcPtdGZ9dV1BQH+sQt1F23+ykpLMBdMhvvJZPhCC2nL3Kps5ssr5u7bq/h9ts2k+vLRgiB1+NmZGyczq4eLl66zLmLHfQNDFNalE9JcYGdVqmtk0gkimVZXOzoondgGE1Tceg6A0MjdHX3EY3aQbF6+waJRmKUFhVQVJCPct0TfafnYPQ3NNAYCMxze73I2htTDgApG2iaUOpv5JXmupQN3E9d8ys0puTjDAZeJdhgB8lJu4Cva0ip387FOXeOwqVgenvNaQcaf10DzXUNK9ba0vkyHas7ritP77VgayoDjUESmsqGVTQ7DdSLOa8Z6xoalkD/crCEvtc1z7r/+uu+S52/MWnFMLurwOpjrvfCTUn3smm6Pmtx0bhOvE57R9Q105KSEN32eQ1QG2fGUt4PS12rq783zb9XLI0vNfj9xLWeQQJNTQRqGuyLXH8dzS2p74XFlF0Mbpb5LBCKC7XkLhx3jiJj72Bc7ov/ZkG4H9k1iNF7AbPjCMqmF3DfeweKPj3irgDVg1KyA0fBNqTmSfexBaSzF+NKO9ZYL0iJkGMwOZdglqhWQFYl6pancWytQXVpYEbRHGOYA1cwLvVMta9VoN/9NPrmahRdRQgLK9eDfuYzolcS0W8jyMlurLBEZs2jBlMU8CSCpc5/nhQpwYXTOywhPAw9R0FzQtHd4C0HVz5TnRYIdyWOu7+DVLMRempcIInMcSFHT2P0hMA0bfqjEaQxFzUJc2wNKl/E/cRTqEWFcVl8pvJJaNmoVfehlFmgu6dpJ02ks41o22Ws6LjdUTmCnIibRhsRZE8rxqQxxSffBrSaZ3HVbkdx2AGkrJJKmOgmPDaIHDfnGW+BEBpK3mYcd1Ugtax4AK8UfmRNYvZfwBxuB2khGEeGDWTinoeG5JsAACAASURBVEV1QtlD6AX7iHYbSAQiMobZ1oq1rRhV05BmCGuwDWMoGvc+VaBwM0pRZTxQ2UzKtHmmysKVqQlf3+StURjCgxAdi9/IwLKzOqfUL5EMhka4dLnbvi0ALnf3cuDQCaZe95Kh0BgAMcPg8pVuYrdtmQqDLcHrdpPjy44HTRKoqorbYUf0FdJiYjJCNBalINdHxZpizp5v59zFDv7hF7uo3VJN7baNrF9bzm3bqlEUBYRAU1V6+wfp7LqKYRqU5ORTVV6KL9ubFDqdTgcb1lZQVlxIR2cXQ6EQvX1D5PhSV66gMD8Pny8raVNuO5mnmxhHItGUNEcp5sgIxicmMee6qQPGJibp7u0nEolQmJ/D5o1ryfZ6k+15XC42baiiuDif8+2dDA6F6Osf4raaaoqL8lGESntnN6HRUXzZXo5/cRbDMKhYU8y6qjIOHQtyuauH3oFBhkOjDI+M4nTolK0pJjfHZ/PsemJVtU1+6matPH3j99d9d1aB7Lt1fhoTp6pgENvFJj1PZ92MVCapm/hK4FrtrSSWw5fpxa6HFnEF6V0A/A2v0BiIHyRvlC9t4wL8/ObyW4s/37IEopfWd/sQ2xRoJbjidvjLwVzvhQRuRrqXQdOC16KfKffPII0v1UNDHTW0EmhqnLqkq6lZQVF+Mf1aCn3T3hG0TrOwWT3Mv1ZvxN40TzsL5sv0thupr220zXkbGmhI0x4vpuwicFPNZwF6Durax3G5Cokee5vYxfPIqG2mKaQF0RCyZxQz1MfE5XtwPfO78bQ9U+diO8rxBGbPWYzOVqyBbqxoiuRlDGINhNJaXkh4JuErRi1fj6LHfXdVFZFfguLNAdE7FQE3ZxNaSSFCSwjbCjhL0IoLiF7tIpni04ohTTklX8zZ8DIVI0nWmGCM2xrO6T9KC2lEkeM9GJd2Y/RcwBpPKWdOIkeuxDWbi6BHzUW//UnUoqIpxfIMxNPcRMaxrp7G6GrFGBqAmElSmIn1YE2Ep3xf5ZQPrDRiyP7LKVpXFZFbgVa1FcU55Wet6Nlo5ZtQz57CGBuel2yJHeXYGriI2RHE6L+MFU7JhGOEsAZ755k4KoprLY6arUR7T9hzQ05C/3GM0EMoRSqM9SN7ziHNeB9FFmr5etTCvFnNjSGRtmdOqhcwMKnjp2hAPDKXWMgSWCxE3EdaEo7EGB2ztZV9QyE+2HuYfQc/TzYrgYkJOwWOqmmERsYwLCu9LmVmICUppuaCZVlICYUFeTz5yD0MhUY42XqeL1rPc/5CJ7v3HSYvN5vammoeeeAu1laUoqoKhmkwMRFGIHC7XLg97nThTQi8XhdutxOBgmlKwtHIjKhoYgZ9Mu1fLpeD++/aweNfu5scX3b8ZmaqdHaWl+JEqp+UbicqMAyDmBFLBoAqLMhN0/QqisDjcVOUn4vL4SBmGkSiURy6TmVZKT5fFv0DQ5xv6yIvN4dT5y7idjm5c0cNleWlHDtxio7L3VzqvEpf/yBj45Pk5mZTWlqI06nfAHPjG4H0jX9R/nnB2YIorSKua3vL4MsNwfWm109DQx2N8QiltqZylZsEO31OTR0NDQ2rYtK+QCIW1/d5hOqbGjcj3deRprqGRvyBeFvBQHy800rQvFKWCUvo1+LpS39HBAONs0RIX0Ese61er71p6XzxN7TQQm1SexuvgMb6AI3+OppfmXK9WUzZ1cB1mc9CQTh8qGV348zZhF7zGdGTHxC73IUMRxHxXKdM9mB27GbyvSzc33oBzeO007+YE1hdh4kefo9Ybz9EJrCikXQTUyntehZ1PnMgnLko2Y4U3ZWwtYl6ioWgUCC7BEVzTDv/CXDos2hPF8WdaRDz/pn8zplja3pj47M3KCVy7AKRAy8Tu9SFDE8go5NgWsjUXEASRCLi8kIgBahrUcu9MwIxp7UdG8K8+DHRz/dhDA4jIxMQi07zlZYIa44xkyZWeCSlb06EK3dGyhsUBeHLRTg8IIbn4L0dDMwaOEn0wGvEuvsgPG5ro5PBqljYHNI9iC2PoB0MYkzGAAM5cRnj0hX0/HKs0SuYV65CgqfeKpSidSgefc5qr6EiW8RsEjqseQiy19uJildank2NmgaAhTStqa8tC8s0ME0z+XE5HRTk51KYn4PL5Zw1cNe8bgHx/2qahn9bNf/uD77D73z7KarXVaCoCoPDIU6fb2fXO3v5P/7LP7B77yEi0RiRiEFodIxEvtjplwl2cDQxi8mtXADfpsooikJ+no9NG6rYtnkd2zatZ9vmqU9FWTFOpyNdeytTZdqpxkSc1ulCpqooOB26LehK+72nqAob1pVTXJCHAIKnL3D+Yifd3f14PW5qtmygvLyENSVFdPf1c6H9Mp1Xe5mYDFOQn0dZcRGaNv9dypcVCwmohN9PDYC/hmXGQrllsCi+3AS4LvTWNUz5eQYCK2haPq2ZNH+zFlqaV0aYXZbQv+C+B2l6KUVQ8dt+ks1zBmS5WXAz0n19aQq+mggo5J8Wrd0f9+VsXqGcqkvr1+Lpq5k76vxsWIK2brXWKqzmO215fPE3tNj+vI116fwKBqh/KT1102LKrjSu23wWCmhuO0DUhsdxPfPXeL75r9HXV4Fj6kgvzDHklQ+Inu8HQ4IZwer9nMienxK9eBY53I+cnEBIgVB1hOaMfzRbwFsUnODImwpklEpr8phpCzjCW5AefRiWHFpnfsjZ/0z7WrX9Ze/8IWz4JrgKZghhEknkg78n0nIca6AbOT4CMROpaHF+OeyPqixS7hGAE0Wdq/MSzDHM9o+JHHiN2KULyNAAhMMwfcxUbW7hUVrIybEU62kXwpGDcM80bUbRmCGwpMIykePniL73d0TPnkIO9iInxsGUCEWb4oWmL2AO6QjPTvStcZ9wKSAcwupowQoPIIcuYA4m/IAVRHE1anFVit/tTKycVKE4Yeu/hrwtcOrHMNZmR9FapbQsQigIVUERgk0bKnjpxae5rWbz7H6ZAhy6jkPXoH9owZNOELd8sOybmNKSAr7zzSd4/plH6O7u40TwHAePfsGZc220d1zhH1/+FZuq1+F0aOTl+kBCNBIjGo2l1ZvIaxtNiUinKuoMs+Fr0Sni/03NcbYQJAR1Rdj8A4hEDXoHh6gsL8HhmHrZxAyD4ZExwpFoMmCVqihUlJVQkJ+DEIJzFzvQVZVINEr5mhJqtmwgEo2xtqKUQ58FOXfhEsMhu441JQWUlRaiXnf/2RuFdLPg2f2mUgNKMOdBJxAIQN3cGoE5sVDT17gAnahydX33Vo4v1wc3gt5UTWWApqY66lbUxHwF4G+gRa6cX3VKxQvre/DVlO/8NL6SGnAlSGuqud9ysAzz8dnru05037Q0BWhKaNL8dbzS0rJ43i50TJbUr+XTt1ST++uHZbzTlrFXLI0vfuoamqlrsINh1U4li+bVYMMMAXLhZVcKKzCfFwshUHQ3aC7wPIG7eDvmiX9g4vAJZMS03euio5iXLiC3lCDMQazz7xO7mqJ9cxSgVj+Mvv1BtPwcW+kzdpjw7rcwuroXQwxCqAvwLBQwn/B13SHAmQ+VT8GGb8PYRVspN60j0a5BiMbd94QGBTtwPvACjjVrEBrI6BWM1l2EPz1u+9AupntzyrMWcvQS5oVPMPpCSCte1FmKVvt19K13oORkoQgLRj9i4o03MUfGZq9LU5LWyRBFxsaQEQmO6QWvoVSzIljndhHtHJgqp2WjVN6H484n0IoK7DuMiVain/6K6JkL89YndC/q9odRTr6MZdoCvBz6glh7FeLyGayEVa1ShFpShZrvRMwzx1bQiVHYC6voDnjg/4Z7/0/I3cK8rS+y+gQUIfBlZ7GmpBDTNOkfGmFweASHU8OX7SXHl4Uv20t2lgfTstA1DYdjaSauMcPgQvtlPjpwlL0HP+fy1T5cDgebq9fxnW8+wX/8wb/iNv8mFMX2WT199iIOXaO4MA/LkgyNjNDd05+MBCylxDQtenoHGBy0/RSyPG6Ki/NxODRW6wJgpvmFIDvLQ35+LqqqEg6HuXy5m0g0lkyibRgmfQPDDAwOY5oWvmwvRYW5OHSdLI+b0uJCHE4HF9ovc/jzFoSisGlDJT5fFvl5PqrXr8UyLYKnL9B2qYssj5uy0mJczunmJjc/AoHE7etsyeLng+3bk0SwkZfSkrIHCdS/lBZkYsofqS5dfg000TR1+rBz3s3Vak3qPXpK5MhggPqUIB/pSG8v2PhSWsqgYDBAfa2gdo7onIvj0XL4svqY2ZcbRG+KpjIYmD9FxpcOi+57kGBKmpDp4zEfZpu7S1tDS8HS6V49rDJNqSarwUZqRS21tbXU1tdTX19PfX3Kuy4Fyx+TBfZrSfSlvyMS78+0UsEggaZ6aoVYXXPkBWHl9qb594ql8iVAvai1UwOlFPbXzBZIazFlVwFLnM+Lg2TWyGZCoKhOFF8Z6p2/h6PINyUvSgtG+5HSwoqMY1w5laKp0xFrH8Bx37fR125EySmyP1lZCG2V4pukxtpZdSzA5DjxveKA7HWw5lHIWscMG+BUb0VXIfpj/x7n1lqU/CKUnAKU7FyEw8HcIduWAGnF89q2gyXjgZE01G3fwHH3N9Aq16LmFqLkFKJ4vUhljj4qGqor1fVwEmIjyPB0DbZEhieRZmxOIVQaMYxLn09NQ6FCcQ36g7+LvnEzSm4Riq8QJdsHunrtiwtFRyl8HL1KiXu4WsjJPmIXT9jmxhZ2pwrWo5RuRNG1eTm8MrM2VZUvhG2TXnyPLdDOldx5qW1gm9oWFebh37YRp8tJKDTKwaNf8Nnx0wyPjBKJRBkZGSN4+iL/1PwWe/YdYSTt5mLhKtpINMpnJ0/xk5+9zv/z45/z9u5P6B8YIhbPG6sqCl637SOrxGnzZWezpXo9uTlZjI9P8tkXZ/ji1DkmJsNEYzEGBob57MRp2juvIhTB9ppq23w3VUUv5dwDN6vpxPzMS5gXp9rduxwONq2voqQ4n+HQGIePBWnruEI4HCESjdLbP8ShY1/Qcbkbh0OjoryEkqJCNE1F1VS2bFpLri8bKSXdvQN4XC7u2LENh66jayrlZYWUFOcRGhkjHIlQkJ9DZVkJDqfzFhBo40EeEgjYm60Qtby0yHQLaalIgGBjoi67vrQ8s/5GUgJAThOKgjTW19rPXSun37SNPNi4sOemtxdItCcEtTOeXR6PlsOXlce1+3Jj6LU1lXaDgQVqZ4M01qZbbtiflYyIfT2wgL5PM8ufmq+18+Rvtuu+5txd4hpaEJZM93Ixz9y4njTNcKcIEgwGCQYCBAIBAoFG+103/dJuKWOylH4tkb70d4T9/qxN5XNtLfWNN8/F1EruTfPtFUvnS9DWsqbO2VRf6LSgTYspu8JY6nxeKKSFnBxBjvZjhcNYhoG0Zok8rCjTTvViyrxXSjttS+LoJfJQfBUoeU6EKmztrDSwrrRhjYdYeb/B64y5hOdZj55xf09Fs9P+zDCXTTykgrYFrdybDGolpYUcHcDq6UTaiVZXrg8W08asFFFQisjWUBRbfJZGBPPSqbgv9MwqhKojCiviykVpC8pD3ZhXOtP9cM0YVm+nbVI9X6xgIyHdCyALxb0OtdCNUBP8MLH6LmMN9cUDgc0HAaoXvXo7yXzFxhAMtCCHElGZVZTCSjv3rDq/yLp8gXbOjq/MVYxExm8DZNpYZXncbN9Wzc7azViWxYkvTvMvv3ybn7/6Drve+ZBX3vgN//Unv+DdPQfZ/fFhBoZCycGzElHUZuN1/DcpJVjg1B1Ur69kbeUaIpEonx4+zq53PmLPx0f4zUef8vNfvs3xL05jWZLSkkI2V6/F6dTZuL6CB+/biaqpnGw9R2DXB7z+6z28+c5efhb4NR9+cpSJyUnKSou5754d5OfmIKSIa3FtwTPFxXoWEpMi6gJ4KBB2SICUCSxxOp1sr9nEHbVbcToctJ5t4xe/fIddb3/I2+/vJ/Dmb9iz7zDDo+Osryrn7p1+8nN9dkRoRWF9VTk+nzcpfOfmZLO+qhxVVdA0nZKiAkpLipJTITfPR0lxPg59bhv4mwkrpxG0g0Fc2+S3juaWaakX6prnjV7Z2DjHj/6GeQSqeZ6ra6alceG7/vJ4tAy+rAKu3ZcbRG+qP+my0MpC3ORuKlyz73aanyVVfa3xXuoaWljrS6Z7ddBKa/B60rTAADnBAPWpqswljclS+rVE+qijuaVxAWvfj/+mCAiwvL1p4XvFavDFv4i0YospuxQsdb4sENJC9h9j8p2/YfSf/3fChz7G6OvBHB/GnBjFCo9ijg1gnX2bWN/41LFQdUDpOoSiJYK3pChEhjAHzmF0DWJNjGKOD2N17iFy7DDGwPgtL8/OOOMvWhGUVln8/ybEThE714ccH8WaGMEaOE+s5R2iZ7tt4WKldTVJ9zwBshur+yJWzxDmxCjm+CDmpbeZ+PQkTMZm0YgKcDhhzeZ4wFcBWDB8BqP1PaKdPXY9E0OYPZ8QbT2JOTy7YDxFT0JslMAY1ug5jM5+5MQo5sQwVs9hosf3YVwZnt2iYDqFqgNl65PoLsVuNjyK7L6IacWjODuqUEu3oebNnqonjbRrtrYQrKKyTVEVHA4dl9OBQ58yG9Y0lY3rKnjxmUe5e2cNWVle2juusOudj/hv//QGr721h67uPjZUlvHwA3dQWJCbvLVzuRw4nDq6ps1gkKIInPH2dIeG06mzpXodX3/kXrbXbGJyMsxb73/MT/7pNf7+p7/k3T0HicVMqtdX8O3nHmNtxRo0TaO0uIAnH76XB+7ejsfj4mTwHD975S1+8rPX2L3vEKNj46xfV8HzT32N2q3VuFwOEAJN03A6HDidDlRVmYW1Cpqq4XTaZTRt/sxLELeoiAd3crtsX2IhBEIRFBfl8+Qj93HPHX5cLp3jJ8/w05ff4sc//SXvfHCAkdFxqteV8/VH72Nn7RY8Hnc8oJVCSXEBFWXFeL0evF4PWzatw+fLiqdAUsjPy2HjugryfD5yc7KpKC0mx5e9yul6ppkY1cy3O/rn/7mumZbmunSfG3/dHCkQrhHAqa6ZlpZ4sIppj/v9dTQ2t9DSMnvQiLrmmUEu7CATLTTM02hds50IPv25Rppb5n/O39BCS3PjjGT0fr+fuuYWXkn1f7omj1aJL8sZ1/loudZ4L2Mcr4k5nbv8NLwyLXjNdG3DgkzrapgZp+k6meRdC8vo+9R8Ta+vrtEezzmxgPFe6hqawtzzf2l0LyFQ3CLmxpJoWuJanErdUkdzS0qwI9lCc6qgNC0o2FLGZCn9Wip9tl/57O8Iu804rYteeEtdq6u3Ny1qr1g0X+xc64110/vtT4731NAtpizMy5PrPJ8XDjuwE30tRPf/v0z89C8Z++9/znjz/8XEq/8b4z/7K8bf24OcTEknk70Z5+Z1CB2E7kQtXMNUKhoDOvYRebOJiVf+lolf/DVjzT8h1tlva8Ju+Tgn89Cfqi1agICbViTSh/Gb/5Wxf/lbJl77G8b/uYnw4eNIqdpRiVbsIkAgPFkouYUkHWClgXXqNSZfb2Li1SYm/umvGH/tZcyhqO0nO2s1LhTfTrR1OVN+tDKMbN9N+NUfMh74ERMv/y+MNf+E6KV46qE5wwirKKVrU1hrQv9Jor9uZOzlv2Xy5R8y9vP/QvRMu11HIuDVfDwRGjhr0f0V9pxLLSsUKKxCWbMeZQHuq0LKOURoacFQO+xrgpaXQUZBVaHiXrj/r6FrL5z8BzCGbbFYz4Kv/wSqvwOKPmuVi4VlWVy81MUHHx1iYHCI/Lwc6r/9dFJLaKfvidDWfoUTrWdpu9RF/8AwpmmSne2lqryU2m3V+LduJDvLixDQ2zfAf/vnXYCkZvMGHn/4HnzZXoQQWJZF26Uufv3+x4yPT7KuqowH791J+ZoSxicmOHv+EidPnaO94yqh0CiWJcnxeamqXEPNlg3cuX0bbrcdolxKSSQa5VLHVY6eaOX8xU6GhkcwLJNsj5fK8mL8WzdyW80mcnOyEUIwMjrOwSMnOdFyhmjM4MlH7+XeO2qTAqBlSSbCYU60nGHvgc9wOjR21G7hnjtqyc7yzGnGaxgmbZe6ePPdvUyGw1RWlPL8U18jPzcHgHAkwoX2Lk60nOF8WydDQyNYlsTjcVNRVoR/y0a2+zeTl5sujBqGyd4DRzl28jQgeeyhu9lZuwU9nocsHI4QPH2BT46cxLIkd2zfws7tW8mKC8UZZJBBBhl8BRGoR8Q1VbMGCUpLs+OncUkC4JeYvgxuLqz2fLEMrK59hPf/nFh7f7r2UVFJmJKmmcb6KtDu/wvc2ytRdAGxEEb724Tf/RXmWDiuPZPE03HEBRknFOxAKxjA7OpAjkZAc6E++V/x7ixJupbKiT6M/T9i4rOOeLCiHNRtL+J87jk0hyNOhQVWO+F3fkrk5EmwTFBdiO1/gudr96NmOZJykxUJYe5vYOJIG9ISCByIiodxfuuPcOQ4rqmZmxUTA7C3CT7/RzDHwFsAd/17cOfD4R9BZAic2bDlJbjrf4bc9cwmBEtpMflPf0a0q8tORWN/i533E5AK0luFVlIIkdOYV0aQKKg138P50As48uNKJ2MS84sfM7HvANZ4DCkFwnUfnu//KZrXO0vLFjLSjRF8k/D+j7DGwiltp4yZ4oXie9DzzxI7dxWiBuhZ6M//He6tuXaQJiOEefFtwnvexRwKMZUeRkxdXKheyC9GTPYjx0bsMmoZjvomnFXxPLlWBLP3fSZf/znm8GS6BjZuMiylA3K3oBdZWAMXsAYnbV/ZB/4Tnru2o3pmGUwzgnnl10y++nPMSWNKoFbzUf0v4nz8WXT3tS07r+HgKuxBS8z7uaTshO/snMmUlgYhBGUlRTz39EPEYia6rpLtnRLchLDzvG7ZtJbKihIGhkKMjI5hWRK3y0lxUT5ZHg+apiYF4NwcH7/7nWcA8HrcSY1jor41JYW8+OxjmJaF2+kkJycLRRFkZ3nZedsWNq6vpH9wmLHxSaSUeD0uigryyM7yoOt6Gu1Op4PqDZWsKS2kt2+IsYlJLMvC7XJQmJ+Hz+dNap2llHjcLu66fRtbNq8FC/LignsCiiJwOx34t2ygrKQIRRFkeb243c55na8VRVC+pojvfuvJeL8cZGd5sSPTgcvpZGv1OtZWlNLbP8jY2ASWJXG6HOTn5pCXk4XDMTOQk6oq3Hl7DdUbKpECigvy0bSpOaDrOpur11FSXIiUEl+WB088fVIGGWSQQQZfTUxpsyDY2ETguyk5QoOB9DQ7s1oWfLXpy+DmwurPFwGufJTijYhxJ3I8BNEwGCZJAUdxgOYETwGKrxRtex3OrZUoelwJoflQyh7Bed8AkeNfYIaGIGbYzwoNPLko+bXo93wDzXOOyJ5dxMZ7bC3ZrIe2+PfClhPkrOc6+3chFKSQ89SVKBunVZkrwtEioHth49MwehmuHrGVcgBC2kq37Eoovw/WPQvuwnkqErgeehh54BPMvqvISJSkbKR7Ebnr0Dc9hr65COuUidl9HCHFHP2M9zHRz9lyiSahIBzFqBsfwTE+TqQlaAuaZtx3WmjgLUQp2onja99Ct/Zhdu7CjI3NaFuo2SiVj+F8IEb08yOYg312P6S0542nAKXsXhw7/HDhbcItJ5BRCzFdK6o4UAoexvW1bsKHj2EODUAii4vQwJGNyNuCY8dT6MWjxA7tIjJ80c5KM280Jx2Rdzda5S7M86G46bYCWWUo5TVozoVZdc4v0OpuyK2CrFIYvzLTHlpgS/iuLCjYBu4SVtL+WAiB2+2k3F0Sb1vMyhRVVcnyevB6PLanrUyss/RUNkIIHA6dtZVrkn/PbM9FRVkpiUpESjlN08jNySbHl5VkxWztJOtDoKoqvuwssryeeZ8RQqBpKgV5uXHNqUiWS4WiKOT4svFlZ6X1Yd65oii43S4qy0umKEtZb4m2bR66F9S3xHM52Vn4srIAOaOsoihked1ked3TrBgyEm0GGWSQwVcVNan5YrAj4s4Ff2PDyuTvXARudvoyuLmw6vNFKIgCP877y9A2XMDsOosZ6sOaDMeDwghQnAhvIWrZXegb1qG4venRioWC4lmD2P67iLxjxM61YI2NIy0F9CyUoq3om+5ALcxHmDrausvg7rG1a75p+V1UB6JwK9qGgvh50YtaXGoLLmkF3ahF1agbNDtgkqKjFOYhpuVeFYqGKNyGtiE/rmjWEQVVKMuJtqw6YP3jtua1/Tdw6UM7YK0zF8ofgrL7YN03wLcBdBdznUsFwNpv4s6uJnryE8zBobg44kRkV6BtuButai2KNo41dif6gIIlQSkuQegpdQoFstehrh1HREyQAqGvR2jzKAKFhuLbhOPO30HJP0Ls4hmscAQsBeHMQZRsx7F5O0peDsLYib7hMsrYGGgulCw9rW3FVYzY+iJK/haMC8cw+oeQJqBno5bdjrbxNtRcF1J044jqmJMGQilAcesprBEIPRt162/jztlM9NRnWKFRpBSgelDyN6JtvAttTQlC9iLX3oFl5SGlgprng7m6Gs+trBYUw4URbPnLicirQiurRCzQ/H0ek+O4vX7/GTj7Jlz8DQwEoWibbXJ8+SNo/Rm48qDqEdj4ApR/DRw+VixVTwYZZJBBBhlk8CVDgPoFRN321zXzykKCFq04bnb6Mri5cL3miwTLRFomWNY0JVNc+6fqoMyvEZNWDAwjqShKWlgm4spIiTSidhsI0Jx2Fg6RrABpRm1tYaJtRYs/n9qwhTRidm7WRDlVB1VNLycl0oxMq08FbWnpNtNgWRCbgNEO+P/bu3vXKII4jOPPvt1LTFTQGNFoiCIYA5KAlUW0sLKwSrD3Hwkp/TdsLFJLOss0NlGJIgpiupALEvN6t7szFrN3t3m9O0W5he+nOu64ndm5a56dmd/Eu27m1iTSxVtSNNC+/05s6u7F5PuYG29rZE3ivZfjewAAAlRJREFUxlVys8D58bDWjXua5n63QDph9eMJjbvjdFrfzfrsh62xtDaV4kb787Ai+UcnAa2rjp3Gzeq47j/Tuo6OtONLUck9UMlfx1rXXus6zfEIpCByAdSa9rUkKSi32jhpbM3WZ9WXXqrxY1synlQeVTD1XNXHD7OCVp2dHmizTsuk0l5NWl+Rvi9JSV26OyttrEibH1yIvTEjDY25DrOeFAAAnGlViwsLWlj8pNX84aGa1OTcnObnZ48VG/q/+r1/6C/8X/pafs+wRFbpF9bIxjXF71+p/nZZJjVu+fLwtEozL1S5c7XrhxpnB9pcg0oOpJ116WBDql6R4m33RGfomisI5QdiKSkAAAAA4DAjm2wq/fZVaVCVF9dkttYUv3sjs5PNfkeXFEw8U/nRU4WDUdfPHjoUhcp4vpuav3DTBVjfzyqi+Yc3OAMAAAAAcIiVGmuKl18rTkKpUZPd228vN/fK8obvKZp4oPDc8aNVz9JdoG3yg2wmFgAAAACALtlUZvenzK8dSdat7fV9KajKG76vaOqJwtGRns9C7i3QAgAAAADQKy+QX6nI2ztQs0K3zl9XMDataHxK4dht+aWw502s3e2hBQAAAADgjxjZpKbky0eZ/bp7yy9JA5cVjIwrGBo8vRpyBwRaAAAAAMA/ZLMjjIx7Lal9dJT/V8c0EWgBAAAAAIVEeWIAAAAAQCERaAEAAAAAhUSgBQAAAAAUEoEWAAAAAFBIBFoAAAAAQCERaAEAAAAAhUSgBQAAAAAUEoEWAAAAAFBIBFoAAAAAQCH9BoQ7ldxfjZSNAAAAAElFTkSuQmCC)"
      ],
      "metadata": {
        "id": "d08NsyB_F15H"
      }
    },
    {
      "cell_type": "markdown",
      "source": [
        "# 1.1 Answers  to Intro to NLP with Sam Faraday - Stop Words"
      ],
      "metadata": {
        "id": "Bi39lxG3Y4yc"
      }
    },
    {
      "cell_type": "markdown",
      "source": [
        "# Stop Words\n",
        "\n",
        "**Stop words** are a set of commonly used words in any language. \n",
        "\n",
        "For example, in English, “the”, “is” and “and”, would easily qualify as stop words. \n",
        "\n",
        "In NLP and text mining applications, stop words are used to eliminate unimportant words, allowing applications to focus on the important words instead."
      ],
      "metadata": {
        "id": "klYuvlO-YXg9"
      }
    },
    {
      "cell_type": "markdown",
      "source": [
        "# Main Sentence"
      ],
      "metadata": {
        "id": "hM14-B0fGarb"
      }
    },
    {
      "cell_type": "code",
      "execution_count": 13,
      "metadata": {
        "id": "lIYdn1woOS1n"
      },
      "outputs": [],
      "source": [
        "sentences =\"Women should wear what they want – that might be jeans and trainers one day, and a dress with heels on another#\\\n",
        "Women should not wear what they want – that might be jeans and trainers one day, and a dress with heels on another#\\\n",
        "Women should belive they should be paid the same as men in the same roles#\\\n",
        "Women should not belive they should be paid the same as men in the same roles#\\\n",
        "Women should believe they have the same rights as men#\\\n",
        "Women should not believe they have the same rights as men#\\\n",
        "Women should be happy to manage their own money#\\\n",
        "Women should not be happy to manage their own money#\\\n",
        "Women should not feel like they need to get married or have a long-term relationship#\\\n",
        "Women should feel like they need to get married or have a long-term relationship\""
      ]
    },
    {
      "cell_type": "code",
      "source": [
        "sentences"
      ],
      "metadata": {
        "id": "OnH1jNnV7D3W",
        "colab": {
          "base_uri": "https://localhost:8080/",
          "height": 122
        },
        "outputId": "e3adf027-27d3-4779-ecb0-4316fc9e6b45"
      },
      "execution_count": 14,
      "outputs": [
        {
          "output_type": "execute_result",
          "data": {
            "text/plain": [
              "'Women should wear what they want – that might be jeans and trainers one day, and a dress with heels on another#Women should not wear what they want – that might be jeans and trainers one day, and a dress with heels on another#Women should belive they should be paid the same as men in the same roles#Women should not belive they should be paid the same as men in the same roles#Women should believe they have the same rights as men#Women should not believe they have the same rights as men#Women should be happy to manage their own money#Women should not be happy to manage their own money#Women should not feel like they need to get married or have a long-term relationship#Women should feel like they need to get married or have a long-term relationship'"
            ],
            "application/vnd.google.colaboratory.intrinsic+json": {
              "type": "string"
            }
          },
          "metadata": {},
          "execution_count": 14
        }
      ]
    },
    {
      "cell_type": "markdown",
      "source": [
        "# Sentence split"
      ],
      "metadata": {
        "id": "A3k0xcZ8GfY6"
      }
    },
    {
      "cell_type": "code",
      "source": [
        "split_sentences = sentences.split(\"#\")"
      ],
      "metadata": {
        "id": "pC5n9Qf47IFe"
      },
      "execution_count": 15,
      "outputs": []
    },
    {
      "cell_type": "code",
      "source": [
        "split_sentences"
      ],
      "metadata": {
        "id": "ZovpeWVt7Qnu",
        "colab": {
          "base_uri": "https://localhost:8080/"
        },
        "outputId": "19c4a48f-7441-4f06-cca2-525f571d8c96"
      },
      "execution_count": 16,
      "outputs": [
        {
          "output_type": "execute_result",
          "data": {
            "text/plain": [
              "['Women should wear what they want – that might be jeans and trainers one day, and a dress with heels on another',\n",
              " 'Women should not wear what they want – that might be jeans and trainers one day, and a dress with heels on another',\n",
              " 'Women should belive they should be paid the same as men in the same roles',\n",
              " 'Women should not belive they should be paid the same as men in the same roles',\n",
              " 'Women should believe they have the same rights as men',\n",
              " 'Women should not believe they have the same rights as men',\n",
              " 'Women should be happy to manage their own money',\n",
              " 'Women should not be happy to manage their own money',\n",
              " 'Women should not feel like they need to get married or have a long-term relationship',\n",
              " 'Women should feel like they need to get married or have a long-term relationship']"
            ]
          },
          "metadata": {},
          "execution_count": 16
        }
      ]
    },
    {
      "cell_type": "code",
      "source": [
        "for each_sentences in split_sentences:\n",
        "  print(each_sentences)"
      ],
      "metadata": {
        "id": "Wp8o6M4n8orf",
        "colab": {
          "base_uri": "https://localhost:8080/"
        },
        "outputId": "4d129fb6-8bae-463b-b62b-dd6fb823d619"
      },
      "execution_count": 17,
      "outputs": [
        {
          "output_type": "stream",
          "name": "stdout",
          "text": [
            "Women should wear what they want – that might be jeans and trainers one day, and a dress with heels on another\n",
            "Women should not wear what they want – that might be jeans and trainers one day, and a dress with heels on another\n",
            "Women should belive they should be paid the same as men in the same roles\n",
            "Women should not belive they should be paid the same as men in the same roles\n",
            "Women should believe they have the same rights as men\n",
            "Women should not believe they have the same rights as men\n",
            "Women should be happy to manage their own money\n",
            "Women should not be happy to manage their own money\n",
            "Women should not feel like they need to get married or have a long-term relationship\n",
            "Women should feel like they need to get married or have a long-term relationship\n"
          ]
        }
      ]
    },
    {
      "cell_type": "markdown",
      "source": [
        "# List of Stop Sentences"
      ],
      "metadata": {
        "id": "-SPKxf3BGj1C"
      }
    },
    {
      "cell_type": "code",
      "source": [
        "stop_sentences = \"Women should not wear what they want – that might be jeans and trainers one day, and a dress with heels on another#\\\n",
        "Women should not belive they should be paid the same as men in the same roles#\\\n",
        "Women should not believe they have the same rights as men#\\\n",
        "Women should not be happy to manage their own money#\\\n",
        "Women should feel like they need to get married or have a long-term relationship\""
      ],
      "metadata": {
        "id": "4HGNwTXH7eHm"
      },
      "execution_count": 18,
      "outputs": []
    },
    {
      "cell_type": "code",
      "source": [
        "split_stop_sentences = stop_sentences.split(\"#\")"
      ],
      "metadata": {
        "id": "JDlwt3gq9F8D"
      },
      "execution_count": 19,
      "outputs": []
    },
    {
      "cell_type": "code",
      "source": [
        "for each_stop_sentence in split_stop_sentences:\n",
        "  print(each_stop_sentence)"
      ],
      "metadata": {
        "id": "S8IqClLR87U9",
        "colab": {
          "base_uri": "https://localhost:8080/"
        },
        "outputId": "8d543f53-93af-44c2-e043-200aaf1b3f8c"
      },
      "execution_count": 20,
      "outputs": [
        {
          "output_type": "stream",
          "name": "stdout",
          "text": [
            "Women should not wear what they want – that might be jeans and trainers one day, and a dress with heels on another\n",
            "Women should not belive they should be paid the same as men in the same roles\n",
            "Women should not believe they have the same rights as men\n",
            "Women should not be happy to manage their own money\n",
            "Women should feel like they need to get married or have a long-term relationship\n"
          ]
        }
      ]
    },
    {
      "cell_type": "markdown",
      "source": [
        "# Removing the Stop Sentences from the Initial Sentences"
      ],
      "metadata": {
        "id": "7l310zfOGsGD"
      }
    },
    {
      "cell_type": "code",
      "source": [
        "final_sentences = []\n",
        "\n",
        "for each_sentence in split_sentences:\n",
        "  if each_sentence not in split_stop_sentences:\n",
        "    final_sentences.append(each_sentence + \"#\")"
      ],
      "metadata": {
        "id": "y_4ct1M49Xrj"
      },
      "execution_count": 21,
      "outputs": []
    },
    {
      "cell_type": "code",
      "source": [
        "final_sentences"
      ],
      "metadata": {
        "id": "3KiKymFM-Pas",
        "colab": {
          "base_uri": "https://localhost:8080/"
        },
        "outputId": "516b16f2-b467-407f-b883-63feb6a11007"
      },
      "execution_count": 22,
      "outputs": [
        {
          "output_type": "execute_result",
          "data": {
            "text/plain": [
              "['Women should wear what they want – that might be jeans and trainers one day, and a dress with heels on another#',\n",
              " 'Women should belive they should be paid the same as men in the same roles#',\n",
              " 'Women should believe they have the same rights as men#',\n",
              " 'Women should be happy to manage their own money#',\n",
              " 'Women should not feel like they need to get married or have a long-term relationship#']"
            ]
          },
          "metadata": {},
          "execution_count": 22
        }
      ]
    },
    {
      "cell_type": "markdown",
      "source": [
        "# Your Turn I\n",
        "\n",
        "Now, please print each sentence in final_sentences starting with the sentence number. You can use a counter or the enumerate keyword"
      ],
      "metadata": {
        "id": "_MdqfyVKBsWe"
      }
    },
    {
      "cell_type": "code",
      "source": [
        "for ____, ____ in _____(final_sentences):\n",
        "  print(___, ___)"
      ],
      "metadata": {
        "id": "dIaV6jPbA_pC"
      },
      "execution_count": null,
      "outputs": []
    },
    {
      "cell_type": "markdown",
      "source": [
        "## Answer Key 1"
      ],
      "metadata": {
        "id": "0QurzN86Z8dC"
      }
    },
    {
      "cell_type": "code",
      "source": [
        "for i, each_sentence in enumerate(final_sentences):\n",
        "  print(i, \" - \" , each_sentence)"
      ],
      "metadata": {
        "id": "X5B9XOWKZGTL",
        "colab": {
          "base_uri": "https://localhost:8080/"
        },
        "outputId": "7eda5201-98d1-4e86-c7ff-8140609bb68c"
      },
      "execution_count": 25,
      "outputs": [
        {
          "output_type": "stream",
          "name": "stdout",
          "text": [
            "0  -  Women should wear what they want – that might be jeans and trainers one day, and a dress with heels on another#\n",
            "1  -  Women should belive they should be paid the same as men in the same roles#\n",
            "2  -  Women should believe they have the same rights as men#\n",
            "3  -  Women should be happy to manage their own money#\n",
            "4  -  Women should not feel like they need to get married or have a long-term relationship#\n"
          ]
        }
      ]
    },
    {
      "cell_type": "markdown",
      "source": [
        "## Expected Output\n",
        "\n",
        "0 - Women should wear what they want – that might be jeans and trainers one day, and a dress with heels on another#\n",
        "\n",
        "1  - Women should belive they should be paid the same as men in the same roles#\n",
        "\n",
        "2 - Women should believe they have the same rights as men#\n",
        "\n",
        "3  - Women should be happy to manage their own money#\n",
        "\n",
        "4 - Women should not feel like they need to get married or have a long-term relationship#"
      ],
      "metadata": {
        "id": "yGDDyjR8BhIn"
      }
    },
    {
      "cell_type": "markdown",
      "source": [
        "# Your Turn II\n",
        "Please see sentences_2 below and create all the procedures to create a final_sentences_2 free of non-desired (stop) sentences like in the previous cell"
      ],
      "metadata": {
        "id": "MruMftRICp8h"
      }
    },
    {
      "cell_type": "code",
      "source": [
        "sentences_2 = \"Women should encourage daughters and sons to think beyond gendered roles#\\\n",
        "Women should not encourage daughters and sons to think beyond gendered roles\\\n",
        "Women should be happy to lead a business meeting#\\\n",
        "Women should not be happy to lead a business meeting#\\\n",
        "Men should take care of sick children as well#\\\n",
        "Only women should take care of sick children#\\\n",
        "Men should not help prepare food#\\\n",
        "Food Preparation is a woman's activity\""
      ],
      "metadata": {
        "id": "_Owbo0ACBUyc"
      },
      "execution_count": 32,
      "outputs": []
    },
    {
      "cell_type": "markdown",
      "source": [
        "## Expected Result\n",
        "0 Women should encourage daughters and sons to think beyond gendered roles\n",
        "\n",
        "1 Women should be happy to lead a business meeting\n",
        "\n",
        "2 Men should take care of sick children as well\n",
        "\n",
        "3 Men should help prepare food"
      ],
      "metadata": {
        "id": "ghVBNV40EHt-"
      }
    },
    {
      "cell_type": "markdown",
      "source": [
        "## Answers Key 2"
      ],
      "metadata": {
        "id": "_EbxYpXUZ43j"
      }
    },
    {
      "cell_type": "code",
      "source": [
        "# stop words\n",
        "split_sentences_2 = sentences_2.split(\"#\")"
      ],
      "metadata": {
        "id": "RnetH-XTaEnU"
      },
      "execution_count": 33,
      "outputs": []
    },
    {
      "cell_type": "code",
      "source": [
        "# Split the string into a list of sentences\n",
        "split_sentences_2"
      ],
      "metadata": {
        "colab": {
          "base_uri": "https://localhost:8080/"
        },
        "id": "G-usSfWCaUhf",
        "outputId": "21782835-db36-4556-d1a2-6601a48cf128"
      },
      "execution_count": 69,
      "outputs": [
        {
          "output_type": "execute_result",
          "data": {
            "text/plain": [
              "['Women should encourage daughters and sons to think beyond gendered roles',\n",
              " 'Women should not encourage daughters and sons to think beyond gendered rolesWomen should be happy to lead a business meeting',\n",
              " 'Women should not be happy to lead a business meeting',\n",
              " 'Men should take care of sick children as well',\n",
              " 'Only women should take care of sick children',\n",
              " 'Men should not help prepare food',\n",
              " \"Food Preparation is a woman's activity\"]"
            ]
          },
          "metadata": {},
          "execution_count": 69
        }
      ]
    },
    {
      "cell_type": "code",
      "source": [
        "# list of Stop Sentences\n",
        "stop_sentences_2 = \"Women should not encourage daughters and sons to think beyond gendered roles Women should be happy to lead a business meeting\",\\\n",
        "                     \"Women should not be happy to lead a business meeting\",\\\n",
        "                     \"Only women should take care of sick children\", \\\n",
        "                     \"Food Preparation is a woman's activity\""
      ],
      "metadata": {
        "id": "6HU1WOHGaen5"
      },
      "execution_count": 63,
      "outputs": []
    },
    {
      "cell_type": "code",
      "source": [
        "stop_sentences_2"
      ],
      "metadata": {
        "colab": {
          "base_uri": "https://localhost:8080/"
        },
        "id": "G1U86MZib8PN",
        "outputId": "39e19041-a1ac-4aa3-bf93-978a9d130828"
      },
      "execution_count": 64,
      "outputs": [
        {
          "output_type": "execute_result",
          "data": {
            "text/plain": [
              "('Women should not encourage daughters and sons to think beyond gendered roles Women should be happy to lead a business meeting',\n",
              " 'Women should not be happy to lead a business meeting',\n",
              " 'Only women should take care of sick children',\n",
              " \"Food Preparation is a woman's activity\")"
            ]
          },
          "metadata": {},
          "execution_count": 64
        }
      ]
    },
    {
      "cell_type": "code",
      "source": [
        "final_sentences_2 = []\n",
        "\n",
        "for each_sentence in split_sentences_2:\n",
        "  if each_sentence not in stop_sentences_2:\n",
        "    final_sentences_2.append(each_sentence + \"#\")"
      ],
      "metadata": {
        "id": "QY7e-fyNbaYq"
      },
      "execution_count": 70,
      "outputs": []
    },
    {
      "cell_type": "code",
      "source": [
        "final_sentences_2"
      ],
      "metadata": {
        "colab": {
          "base_uri": "https://localhost:8080/"
        },
        "id": "XJ7Luq7ubpPk",
        "outputId": "d7fea62b-c74f-4889-a206-a1feadc9c19e"
      },
      "execution_count": 71,
      "outputs": [
        {
          "output_type": "execute_result",
          "data": {
            "text/plain": [
              "['Women should encourage daughters and sons to think beyond gendered roles#',\n",
              " 'Women should not encourage daughters and sons to think beyond gendered rolesWomen should be happy to lead a business meeting#',\n",
              " 'Men should take care of sick children as well#',\n",
              " 'Men should not help prepare food#']"
            ]
          },
          "metadata": {},
          "execution_count": 71
        }
      ]
    }
  ],
  "metadata": {
    "colab": {
      "provenance": [],
      "include_colab_link": true
    },
    "kernelspec": {
      "display_name": "Python 3",
      "name": "python3"
    }
  },
  "nbformat": 4,
  "nbformat_minor": 0
}