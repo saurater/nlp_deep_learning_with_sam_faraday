{
  "nbformat": 4,
  "nbformat_minor": 0,
  "metadata": {
    "colab": {
      "provenance": [],
      "collapsed_sections": [],
      "authorship_tag": "ABX9TyOOAMCpBkGhxn0vwdv3g24F",
      "include_colab_link": true
    },
    "kernelspec": {
      "name": "python3",
      "display_name": "Python 3"
    },
    "language_info": {
      "name": "python"
    }
  },
  "cells": [
    {
      "cell_type": "markdown",
      "metadata": {
        "id": "view-in-github",
        "colab_type": "text"
      },
      "source": [
        "<a href=\"https://colab.research.google.com/github/saurater/nlp_deep_learning_with_sam_faraday/blob/main/OOP_with_Sam_and_Josh.ipynb\" target=\"_parent\"><img src=\"https://colab.research.google.com/assets/colab-badge.svg\" alt=\"Open In Colab\"/></a>"
      ]
    },
    {
      "cell_type": "markdown",
      "source": [
        "# OOP - Object Oriented Programming"
      ],
      "metadata": {
        "id": "QVhUCRo4jTcJ"
      }
    },
    {
      "cell_type": "markdown",
      "source": [
        "## Object\n",
        "An object is a collection of variables and functions and can be used to represent real entities like a button, a fruit or a person. In fact, it can represent anything.\n",
        "\n",
        "To declare, initialize, and manipulate objects in Python, we use **classes**. They serve as templates  from which objects are created. The following diagram illustrates this idea:"
      ],
      "metadata": {
        "id": "vevxo_IQk37Y"
      }
    },
    {
      "cell_type": "markdown",
      "source": [
        "The __init__ method is the Python equivalent of the C++ constructor in an object-oriented approach. \n",
        "\n",
        "The __init__  function is called every time an object is created from a class. \n",
        "\n",
        "The __init__ method lets the class initialize the object’s attributes. It is only used within classes. "
      ],
      "metadata": {
        "id": "-ib8be_xlho1"
      }
    },
    {
      "cell_type": "markdown",
      "source": [
        "## Class Attribute\n",
        "We can add attributes to a class using the self parameter along with a name, then we assign it a value.\n",
        "\n",
        "In this case, name and color are attributes of the class Fruit.\n",
        "\n",
        "fruitName and fruitColor are paremeters the __init__ function (Constructor) will receive and pass to the attributes.\n",
        "\n"
      ],
      "metadata": {
        "id": "hYyKRAemsjI2"
      }
    },
    {
      "cell_type": "code",
      "execution_count": 1,
      "metadata": {
        "id": "eyxnNl-bjS23"
      },
      "outputs": [],
      "source": [
        "class Fruit:\n",
        "  def __init__(self, fruitName, fruitColor):\n",
        "    \n",
        "      self.name  =   fruitName\n",
        "      self.color =  fruitColor\n",
        "\n"
      ]
    },
    {
      "cell_type": "markdown",
      "source": [
        "#Creating an object\n",
        "\n",
        "To create an object, we just need to instantiate a class Name.\n",
        "\n",
        "Let us create 2 objects: Fruit1 and Fruit2"
      ],
      "metadata": {
        "id": "goB0IQOAl7o2"
      }
    },
    {
      "cell_type": "markdown",
      "source": [
        "## Fruit1"
      ],
      "metadata": {
        "id": "oRdJUO2hmLe1"
      }
    },
    {
      "cell_type": "code",
      "source": [
        "fruit1 = Fruit(\"Apple\", \"Red\")"
      ],
      "metadata": {
        "id": "jbRWuBTsj1yo"
      },
      "execution_count": 2,
      "outputs": []
    },
    {
      "cell_type": "code",
      "source": [
        "print(fruit1.name)"
      ],
      "metadata": {
        "colab": {
          "base_uri": "https://localhost:8080/"
        },
        "id": "9emni8tckLgx",
        "outputId": "dbf652cc-a546-4388-e54f-4a276a3429e0"
      },
      "execution_count": 3,
      "outputs": [
        {
          "output_type": "stream",
          "name": "stdout",
          "text": [
            "Apple\n"
          ]
        }
      ]
    },
    {
      "cell_type": "code",
      "source": [
        "print(fruit1.color)"
      ],
      "metadata": {
        "colab": {
          "base_uri": "https://localhost:8080/"
        },
        "id": "JuIOZfKmkNh9",
        "outputId": "c0ee5f7f-e9c8-433f-d011-2509526e04a0"
      },
      "execution_count": 4,
      "outputs": [
        {
          "output_type": "stream",
          "name": "stdout",
          "text": [
            "Red\n"
          ]
        }
      ]
    },
    {
      "cell_type": "markdown",
      "source": [
        "## Fruit2"
      ],
      "metadata": {
        "id": "RZiPwj9CmOLs"
      }
    },
    {
      "cell_type": "code",
      "source": [
        "fruit2 = Fruit(\"Banana\", \"Green\")"
      ],
      "metadata": {
        "id": "TvrNq2NLkPyL"
      },
      "execution_count": 5,
      "outputs": []
    },
    {
      "cell_type": "code",
      "source": [
        "print(fruit2.name)"
      ],
      "metadata": {
        "colab": {
          "base_uri": "https://localhost:8080/"
        },
        "id": "O2FsMqsRkiU5",
        "outputId": "ec61c395-23d6-4a1c-d98a-01488a869b34"
      },
      "execution_count": 6,
      "outputs": [
        {
          "output_type": "stream",
          "name": "stdout",
          "text": [
            "Banana\n"
          ]
        }
      ]
    },
    {
      "cell_type": "code",
      "source": [
        "print(fruit2.color)"
      ],
      "metadata": {
        "colab": {
          "base_uri": "https://localhost:8080/"
        },
        "id": "_YOm1SXakk4s",
        "outputId": "662c1326-c8d5-4580-d7cf-a2f103c7dbb0"
      },
      "execution_count": 7,
      "outputs": [
        {
          "output_type": "stream",
          "name": "stdout",
          "text": [
            "Green\n"
          ]
        }
      ]
    },
    {
      "cell_type": "markdown",
      "source": [
        "#  Class Methods\n",
        "\n",
        "A Class method is like a function. The main difference is that it includes the parameter self."
      ],
      "metadata": {
        "id": "E1x6FoYZtTAN"
      }
    },
    {
      "cell_type": "code",
      "source": [
        "class Fruit:\n",
        "  def __init__(self, fruitName, fruitColor):\n",
        "      #attributes\n",
        "      self.name  =   fruitName\n",
        "      self.color =  fruitColor\n",
        "      self.region = \"Nigeria\"\n",
        "  \n",
        "  def pure_function():\n",
        "    print(\"I am a pure function\")\n",
        "\n",
        "  \n",
        "\n",
        "  # Methods - see the self parameter\n",
        "  def fruit_recommendation(self, fruitTimes):\n",
        "    print(\"You should eat \", fruitTimes , \" \", self.name , \"s a day\")\n",
        "   \n",
        "\n",
        "   "
      ],
      "metadata": {
        "id": "wQGEFlA6tn3c"
      },
      "execution_count": 8,
      "outputs": []
    },
    {
      "cell_type": "code",
      "source": [
        "my_papaya = Fruit(\"Papaya\", \"yellow\")"
      ],
      "metadata": {
        "id": "gVYCe4KKuT9N"
      },
      "execution_count": 9,
      "outputs": []
    },
    {
      "cell_type": "code",
      "source": [
        "my_papaya.fruit_recommendation(3)"
      ],
      "metadata": {
        "colab": {
          "base_uri": "https://localhost:8080/"
        },
        "id": "XxRvLgo2ukYu",
        "outputId": "500074e9-09f6-433d-d576-38fb2f85121f"
      },
      "execution_count": 10,
      "outputs": [
        {
          "output_type": "stream",
          "name": "stdout",
          "text": [
            "You should eat  3   Papaya s a day\n"
          ]
        }
      ]
    },
    {
      "cell_type": "code",
      "source": [
        "my_papaya.region"
      ],
      "metadata": {
        "colab": {
          "base_uri": "https://localhost:8080/",
          "height": 35
        },
        "id": "pe8oGurA2-89",
        "outputId": "f70caa93-6361-404c-eaeb-98813489496b"
      },
      "execution_count": 11,
      "outputs": [
        {
          "output_type": "execute_result",
          "data": {
            "text/plain": [
              "'Nigeria'"
            ],
            "application/vnd.google.colaboratory.intrinsic+json": {
              "type": "string"
            }
          },
          "metadata": {},
          "execution_count": 11
        }
      ]
    },
    {
      "cell_type": "code",
      "source": [
        "my_papaya.pure_function"
      ],
      "metadata": {
        "colab": {
          "base_uri": "https://localhost:8080/"
        },
        "id": "3f2T-mBEupEw",
        "outputId": "4e8b9131-7c46-463b-9ba8-7a2aea3ca130"
      },
      "execution_count": 12,
      "outputs": [
        {
          "output_type": "execute_result",
          "data": {
            "text/plain": [
              "<bound method Fruit.pure_function of <__main__.Fruit object at 0x7fea681f9ed0>>"
            ]
          },
          "metadata": {},
          "execution_count": 12
        }
      ]
    },
    {
      "cell_type": "markdown",
      "source": [
        "# Class Inheritance\n",
        "\n",
        "super() function will make the child class inherit all the methods and properties from its parent"
      ],
      "metadata": {
        "id": "OO8ajJiKygHh"
      }
    },
    {
      "cell_type": "code",
      "source": [
        "class my_new_type_of_fruit(Fruit):\n",
        "  def __init__(self,fruitName, fruitColor ):\n",
        "    super().__init__(fruitName, fruitColor)\n",
        "    self.price = 10 \n"
      ],
      "metadata": {
        "id": "iKlqPlYSykE4"
      },
      "execution_count": 13,
      "outputs": []
    },
    {
      "cell_type": "code",
      "source": [
        "avocado = my_new_type_of_fruit(\"Avocado\", \"Green\")"
      ],
      "metadata": {
        "id": "vkY5Y7jpzK24"
      },
      "execution_count": 14,
      "outputs": []
    },
    {
      "cell_type": "code",
      "source": [
        "print(avocado.region)"
      ],
      "metadata": {
        "colab": {
          "base_uri": "https://localhost:8080/"
        },
        "id": "SuhXndeb0TB0",
        "outputId": "bb7d3b51-bab8-4d07-f9c5-03f5551fb709"
      },
      "execution_count": 15,
      "outputs": [
        {
          "output_type": "stream",
          "name": "stdout",
          "text": [
            "Nigeria\n"
          ]
        }
      ]
    },
    {
      "cell_type": "code",
      "source": [
        "print(avocado.price)"
      ],
      "metadata": {
        "colab": {
          "base_uri": "https://localhost:8080/"
        },
        "id": "UWUCwUKv3RxT",
        "outputId": "59f1f953-4f10-430e-e535-ce57d80d8fa5"
      },
      "execution_count": 16,
      "outputs": [
        {
          "output_type": "stream",
          "name": "stdout",
          "text": [
            "10\n"
          ]
        }
      ]
    },
    {
      "cell_type": "code",
      "source": [
        "avocado.fruit_recommendation(4)"
      ],
      "metadata": {
        "colab": {
          "base_uri": "https://localhost:8080/"
        },
        "id": "gTXasVqY3UEC",
        "outputId": "207c32f9-3799-4b39-e572-0a48d3136571"
      },
      "execution_count": 17,
      "outputs": [
        {
          "output_type": "stream",
          "name": "stdout",
          "text": [
            "You should eat  4   Avocado s a day\n"
          ]
        }
      ]
    },
    {
      "cell_type": "markdown",
      "source": [
        "# Class Polymorphism"
      ],
      "metadata": {
        "id": "tp_08gTS64DP"
      }
    },
    {
      "cell_type": "code",
      "source": [
        "class new_type_2_with_polymorphism(Fruit):\n",
        "  def __init__(self,fruitName, fruitColor ):\n",
        "    super().__init__(fruitName, fruitColor)\n",
        "    self.price = 10 \n",
        "  def fruit_recommendation(self, fruitTimes):\n",
        "      print(\"You'b better eat \", fruitTimes , \" \", self.name , \"s times 2 a day\")"
      ],
      "metadata": {
        "id": "K5c8FPSJ676e"
      },
      "execution_count": 18,
      "outputs": []
    },
    {
      "cell_type": "code",
      "source": [
        "olive = new_type_2_with_polymorphism(\"Olive\", \"green\")"
      ],
      "metadata": {
        "id": "eLEmSp0K3lff"
      },
      "execution_count": 19,
      "outputs": []
    },
    {
      "cell_type": "code",
      "source": [
        "olive.name"
      ],
      "metadata": {
        "colab": {
          "base_uri": "https://localhost:8080/",
          "height": 35
        },
        "id": "QIl8E-IK9pe8",
        "outputId": "040abdee-3955-4884-80c2-3aba1758eabc"
      },
      "execution_count": 20,
      "outputs": [
        {
          "output_type": "execute_result",
          "data": {
            "text/plain": [
              "'Olive'"
            ],
            "application/vnd.google.colaboratory.intrinsic+json": {
              "type": "string"
            }
          },
          "metadata": {},
          "execution_count": 20
        }
      ]
    },
    {
      "cell_type": "code",
      "source": [
        "olive.color"
      ],
      "metadata": {
        "colab": {
          "base_uri": "https://localhost:8080/",
          "height": 35
        },
        "id": "ws_pdHf99q5R",
        "outputId": "aa71b0ed-39fe-4ebe-b49c-1fa4a21c2723"
      },
      "execution_count": 21,
      "outputs": [
        {
          "output_type": "execute_result",
          "data": {
            "text/plain": [
              "'green'"
            ],
            "application/vnd.google.colaboratory.intrinsic+json": {
              "type": "string"
            }
          },
          "metadata": {},
          "execution_count": 21
        }
      ]
    },
    {
      "cell_type": "code",
      "source": [
        "olive.fruit_recommendation(6)"
      ],
      "metadata": {
        "colab": {
          "base_uri": "https://localhost:8080/"
        },
        "id": "WIaZl7U89s_A",
        "outputId": "366f9936-f2dc-4705-a2a4-cd552316d867"
      },
      "execution_count": 22,
      "outputs": [
        {
          "output_type": "stream",
          "name": "stdout",
          "text": [
            "You'b better eat  6   Olive s times 2 a day\n"
          ]
        }
      ]
    },
    {
      "cell_type": "code",
      "source": [
        "olive.fruit_recommendation(6)"
      ],
      "metadata": {
        "colab": {
          "base_uri": "https://localhost:8080/"
        },
        "id": "Q55VXURs97_5",
        "outputId": "40438030-7c3f-43b6-ca1f-be9e7b02d9b7"
      },
      "execution_count": 23,
      "outputs": [
        {
          "output_type": "stream",
          "name": "stdout",
          "text": [
            "You'b better eat  6   Olive s times 2 a day\n"
          ]
        }
      ]
    },
    {
      "cell_type": "markdown",
      "source": [
        "# Encapsulation and Abstraction\n",
        "\n",
        "Encapsulation is one of the four fundamental concepts in object-oriented programming including abstraction, encapsulation, inheritance, and polymorphism.\n",
        "\n",
        "Encapsulation is the packing of data and functions that work on that data within a single object. By doing so, you can hide the internal state of the object from the outside. This is known as information hiding.\n",
        "\n",
        "A class is an example of encapsulation. A class bundles data and methods into a single unit. And a class provides the access to its attributes via methods.\n",
        "\n",
        "**Abstraction** - The idea of information hiding is that if you have an attribute that isn’t visible to the outside, you can control the access to its value to make sure your object always has a valid state.\n",
        "\n",
        "Let’s take a look at an example to better understand the encapsulation concept.\n",
        "\n",
        "source: https://www.pythontutorial.net/python-oop/python-private-attributes/"
      ],
      "metadata": {
        "id": "GWkvDO6dGmUj"
      }
    },
    {
      "cell_type": "code",
      "source": [
        "class Employee:\n",
        "    def __init__(self, name, role, hour_value):\n",
        "        self.name = name\n",
        "        self.role = role\n",
        "        self.hour_value = hour_value\n",
        "        self.__wage = 0\n",
        "        self.__worked_hours = 10\n",
        "\n",
        "    @property\n",
        "    def wage(self): \n",
        "        return self.__wage\n",
        "\n",
        "    @wage.setter\n",
        "    def wage(self, new_wage): \n",
        "        raise ValueError(\"You cannot access wage directly. Please use  function calc_wage().\")\n",
        "\n",
        "    def set_worked_hours(self):\n",
        "        self.__worked_hours += 1\n",
        "\n",
        "    def calc_wage(self):\n",
        "        self.__wage = self.__worked_hours * self.hour_value\n",
        "\n"
      ],
      "metadata": {
        "id": "mw3IH18EDkIf"
      },
      "execution_count": 57,
      "outputs": []
    },
    {
      "cell_type": "code",
      "source": [
        "peter = Employee('Peter', 'Sales Manager', 20)"
      ],
      "metadata": {
        "id": "5KttBFg-FYE9"
      },
      "execution_count": 58,
      "outputs": []
    },
    {
      "cell_type": "code",
      "source": [
        "peter.name"
      ],
      "metadata": {
        "colab": {
          "base_uri": "https://localhost:8080/",
          "height": 35
        },
        "id": "u41FfyTlFbQz",
        "outputId": "87c92aa5-9d4f-4037-f3d9-069659795aa9"
      },
      "execution_count": 59,
      "outputs": [
        {
          "output_type": "execute_result",
          "data": {
            "text/plain": [
              "'Peter'"
            ],
            "application/vnd.google.colaboratory.intrinsic+json": {
              "type": "string"
            }
          },
          "metadata": {},
          "execution_count": 59
        }
      ]
    },
    {
      "cell_type": "code",
      "source": [
        "peter.role"
      ],
      "metadata": {
        "colab": {
          "base_uri": "https://localhost:8080/",
          "height": 35
        },
        "id": "G7KqFAM7FZSd",
        "outputId": "db6e0b02-ad89-4cb8-a855-2cd490dac384"
      },
      "execution_count": 60,
      "outputs": [
        {
          "output_type": "execute_result",
          "data": {
            "text/plain": [
              "'Sales Manager'"
            ],
            "application/vnd.google.colaboratory.intrinsic+json": {
              "type": "string"
            }
          },
          "metadata": {},
          "execution_count": 60
        }
      ]
    },
    {
      "cell_type": "code",
      "source": [
        "peter.hour_value"
      ],
      "metadata": {
        "colab": {
          "base_uri": "https://localhost:8080/"
        },
        "id": "UvTwfy48D1Y4",
        "outputId": "66405bbe-657e-44e9-c125-697427626fb1"
      },
      "execution_count": 62,
      "outputs": [
        {
          "output_type": "execute_result",
          "data": {
            "text/plain": [
              "20"
            ]
          },
          "metadata": {},
          "execution_count": 62
        }
      ]
    },
    {
      "cell_type": "code",
      "source": [
        "peter.hour_value =30"
      ],
      "metadata": {
        "id": "ilmSgyZEHR5-"
      },
      "execution_count": 66,
      "outputs": []
    },
    {
      "cell_type": "code",
      "source": [
        "peter.hour_value"
      ],
      "metadata": {
        "colab": {
          "base_uri": "https://localhost:8080/"
        },
        "id": "jWEX_wcyHT_a",
        "outputId": "c8770151-2e2a-4b96-8a4d-2d4c8586bf10"
      },
      "execution_count": 67,
      "outputs": [
        {
          "output_type": "execute_result",
          "data": {
            "text/plain": [
              "30"
            ]
          },
          "metadata": {},
          "execution_count": 67
        }
      ]
    },
    {
      "cell_type": "code",
      "source": [
        "peter.wage = 10"
      ],
      "metadata": {
        "colab": {
          "base_uri": "https://localhost:8080/",
          "height": 288
        },
        "id": "bUSpzJMdFqL9",
        "outputId": "9d78a4ab-2d22-4fb8-8f08-0d51793deb88"
      },
      "execution_count": 68,
      "outputs": [
        {
          "output_type": "error",
          "ename": "ValueError",
          "evalue": "ignored",
          "traceback": [
            "\u001b[0;31m---------------------------------------------------------------------------\u001b[0m",
            "\u001b[0;31mValueError\u001b[0m                                Traceback (most recent call last)",
            "\u001b[0;32m<ipython-input-68-dff396154bde>\u001b[0m in \u001b[0;36m<module>\u001b[0;34m\u001b[0m\n\u001b[0;32m----> 1\u001b[0;31m \u001b[0mpeter\u001b[0m\u001b[0;34m.\u001b[0m\u001b[0mwage\u001b[0m \u001b[0;34m=\u001b[0m \u001b[0;36m10\u001b[0m\u001b[0;34m\u001b[0m\u001b[0;34m\u001b[0m\u001b[0m\n\u001b[0m",
            "\u001b[0;32m<ipython-input-57-0b973d1d9e7c>\u001b[0m in \u001b[0;36mwage\u001b[0;34m(self, new_wage)\u001b[0m\n\u001b[1;32m     13\u001b[0m     \u001b[0;34m@\u001b[0m\u001b[0mwage\u001b[0m\u001b[0;34m.\u001b[0m\u001b[0msetter\u001b[0m\u001b[0;34m\u001b[0m\u001b[0;34m\u001b[0m\u001b[0m\n\u001b[1;32m     14\u001b[0m     \u001b[0;32mdef\u001b[0m \u001b[0mwage\u001b[0m\u001b[0;34m(\u001b[0m\u001b[0mself\u001b[0m\u001b[0;34m,\u001b[0m \u001b[0mnew_wage\u001b[0m\u001b[0;34m)\u001b[0m\u001b[0;34m:\u001b[0m\u001b[0;34m\u001b[0m\u001b[0;34m\u001b[0m\u001b[0m\n\u001b[0;32m---> 15\u001b[0;31m         \u001b[0;32mraise\u001b[0m \u001b[0mValueError\u001b[0m\u001b[0;34m(\u001b[0m\u001b[0;34m\"You cannot access wage directly. Please use  function calc_wage().\"\u001b[0m\u001b[0;34m)\u001b[0m\u001b[0;34m\u001b[0m\u001b[0;34m\u001b[0m\u001b[0m\n\u001b[0m\u001b[1;32m     16\u001b[0m \u001b[0;34m\u001b[0m\u001b[0m\n\u001b[1;32m     17\u001b[0m     \u001b[0;32mdef\u001b[0m \u001b[0mset_worked_hours\u001b[0m\u001b[0;34m(\u001b[0m\u001b[0mself\u001b[0m\u001b[0;34m)\u001b[0m\u001b[0;34m:\u001b[0m\u001b[0;34m\u001b[0m\u001b[0;34m\u001b[0m\u001b[0m\n",
            "\u001b[0;31mValueError\u001b[0m: You cannot access wage directly. Please use  function calc_wage()."
          ]
        }
      ]
    },
    {
      "cell_type": "code",
      "source": [
        "peter.calc_wage()"
      ],
      "metadata": {
        "id": "aZjIzz7PGAUo"
      },
      "execution_count": 69,
      "outputs": []
    },
    {
      "cell_type": "code",
      "source": [
        "peter.wage"
      ],
      "metadata": {
        "colab": {
          "base_uri": "https://localhost:8080/"
        },
        "id": "pXxjVcIqGOJ8",
        "outputId": "7e6245fc-579f-47a9-eba9-7b63a931e348"
      },
      "execution_count": 70,
      "outputs": [
        {
          "output_type": "execute_result",
          "data": {
            "text/plain": [
              "300"
            ]
          },
          "metadata": {},
          "execution_count": 70
        }
      ]
    }
  ]
}